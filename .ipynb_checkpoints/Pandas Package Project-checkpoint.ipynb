{
 "cells": [
  {
   "cell_type": "markdown",
   "id": "1104ee8b",
   "metadata": {
    "deletable": false,
    "editable": false
   },
   "source": [
    "<i>LEARNING-CIRCLE-104 PROJECT<i>"
   ]
  },
  {
   "cell_type": "markdown",
   "id": "5ae28139",
   "metadata": {},
   "source": [
    "# PANDAS"
   ]
  },
  {
   "cell_type": "markdown",
   "id": "59dac0d0",
   "metadata": {},
   "source": [
    "Pandas is a powerful library for data manipulation and analysis in python. It consist of several key modules and components that offer various functionalities. These modules and functionalities collectively form the backbone of Pandas, enabling users to efficiently handle, manipulate, and analyze data in Python. Some of the main modules and components in pandas are as follow:"
   ]
  },
  {
   "cell_type": "markdown",
   "id": "ffd9e214",
   "metadata": {},
   "source": [
    "##  Data Structures:\n",
    "   - **Series:**\n",
    "   A Series is a one-dimensional array-like object containing a sequence of values of the same type and an associated array of data labels, called its index. The simplest Series is formed from only an array of data.  A Series consists of data and labels, referred to as the index.\n",
    "   - **DataFrame:**\n",
    "   A DataFrame is a 2-dimensional data structure that can store data of different types (including characters, integers, floating point values, categorical data and more) in columns. It is similar to a spreadsheet, a SQL table or the dataframe in R. A DataFrame represents a rectangular table of data and contains an ordered, named collection of columns, each of which can be a different value type (numeric, string, Boolean, etc.). The DataFrame has both a row and column index; it can be thought of as a dictionary of Series all sharing the same index. </br>\n",
    "   __Note:__\n",
    "_While a DataFrame is physically two-dimensional, you can use it to represent higher dimensional data in a tabular format using hierarchical indexing_"
   ]
  },
  {
   "cell_type": "code",
   "execution_count": 1,
   "id": "e411c865",
   "metadata": {
    "ExecuteTime": {
     "end_time": "2023-12-14T22:06:43.057263Z",
     "start_time": "2023-12-14T22:06:41.236900Z"
    }
   },
   "outputs": [],
   "source": [
    "# Importing the Pandas Package\n",
    "import pandas as pd   # Here pd is an 'alias'  for the pandas library"
   ]
  },
  {
   "cell_type": "markdown",
   "id": "c42fe185",
   "metadata": {},
   "source": [
    "### Series"
   ]
  },
  {
   "cell_type": "markdown",
   "id": "6f7fd019",
   "metadata": {},
   "source": [
    "#### **Creating a Series:**</br>\n",
    "You can create a Series using the `pd.Series()` constructor. "
   ]
  },
  {
   "cell_type": "code",
   "execution_count": 2,
   "id": "aaab71e5",
   "metadata": {
    "ExecuteTime": {
     "end_time": "2023-12-14T22:06:43.070206Z",
     "start_time": "2023-12-14T22:06:43.061293Z"
    }
   },
   "outputs": [],
   "source": [
    "# Creating a series from a list\n",
    "data = [10,20,30,40,50]\n",
    "index =['A','B','C','D','E']\n",
    "obj = pd.Series(data,index=index)"
   ]
  },
  {
   "cell_type": "code",
   "execution_count": 3,
   "id": "8c18e5f4",
   "metadata": {
    "ExecuteTime": {
     "end_time": "2023-12-14T22:06:43.211149Z",
     "start_time": "2023-12-14T22:06:43.080207Z"
    }
   },
   "outputs": [
    {
     "data": {
      "text/plain": [
       "A    10\n",
       "B    20\n",
       "C    30\n",
       "D    40\n",
       "E    50\n",
       "dtype: int64"
      ]
     },
     "execution_count": 3,
     "metadata": {},
     "output_type": "execute_result"
    }
   ],
   "source": [
    "# Reading the series\n",
    "obj"
   ]
  },
  {
   "cell_type": "markdown",
   "id": "aa9b63ba",
   "metadata": {},
   "source": [
    "#### **Accessing Elements:**</br>\n",
    "You can access elements in a Series using index labels:"
   ]
  },
  {
   "cell_type": "code",
   "execution_count": 4,
   "id": "560a0048",
   "metadata": {
    "ExecuteTime": {
     "end_time": "2023-12-14T22:06:43.357216Z",
     "start_time": "2023-12-14T22:06:43.217152Z"
    }
   },
   "outputs": [
    {
     "data": {
      "text/plain": [
       "30"
      ]
     },
     "execution_count": 4,
     "metadata": {},
     "output_type": "execute_result"
    }
   ],
   "source": [
    "obj['C']"
   ]
  },
  {
   "cell_type": "markdown",
   "id": "a5466af7",
   "metadata": {},
   "source": [
    "#### **Series Operations:**</br>\n",
    "You can perform various operations on Series, such as addition and multiplication:"
   ]
  },
  {
   "cell_type": "code",
   "execution_count": 5,
   "id": "914cba68",
   "metadata": {
    "ExecuteTime": {
     "end_time": "2023-12-14T22:06:43.492079Z",
     "start_time": "2023-12-14T22:06:43.362220Z"
    }
   },
   "outputs": [
    {
     "data": {
      "text/plain": [
       "A     20\n",
       "B     40\n",
       "C     60\n",
       "D     80\n",
       "E    100\n",
       "dtype: int64"
      ]
     },
     "execution_count": 5,
     "metadata": {},
     "output_type": "execute_result"
    }
   ],
   "source": [
    "obj * 2"
   ]
  },
  {
   "cell_type": "markdown",
   "id": "0aea5ac9",
   "metadata": {},
   "source": [
    "#### **Filtering Data:**</br>\n",
    "Filtering data based on conditions:"
   ]
  },
  {
   "cell_type": "code",
   "execution_count": 6,
   "id": "12691513",
   "metadata": {
    "ExecuteTime": {
     "end_time": "2023-12-14T22:06:43.600813Z",
     "start_time": "2023-12-14T22:06:43.496105Z"
    }
   },
   "outputs": [
    {
     "data": {
      "text/plain": [
       "D    40\n",
       "E    50\n",
       "dtype: int64"
      ]
     },
     "execution_count": 6,
     "metadata": {},
     "output_type": "execute_result"
    }
   ],
   "source": [
    "obj[obj > 30]"
   ]
  },
  {
   "cell_type": "markdown",
   "id": "7c6c97a7",
   "metadata": {},
   "source": [
    "#### **Series Attributes:**</br>\n",
    "Series has attributes like index and values:"
   ]
  },
  {
   "cell_type": "code",
   "execution_count": 7,
   "id": "920c8e34",
   "metadata": {
    "ExecuteTime": {
     "end_time": "2023-12-14T22:06:43.722853Z",
     "start_time": "2023-12-14T22:06:43.604817Z"
    }
   },
   "outputs": [
    {
     "data": {
      "text/plain": [
       "Index(['A', 'B', 'C', 'D', 'E'], dtype='object')"
      ]
     },
     "execution_count": 7,
     "metadata": {},
     "output_type": "execute_result"
    }
   ],
   "source": [
    "# Getting indexes\n",
    "obj.index"
   ]
  },
  {
   "cell_type": "code",
   "execution_count": 8,
   "id": "495cad59",
   "metadata": {
    "ExecuteTime": {
     "end_time": "2023-12-14T22:06:43.814036Z",
     "start_time": "2023-12-14T22:06:43.726857Z"
    }
   },
   "outputs": [
    {
     "data": {
      "text/plain": [
       "array([10, 20, 30, 40, 50], dtype=int64)"
      ]
     },
     "execution_count": 8,
     "metadata": {},
     "output_type": "execute_result"
    }
   ],
   "source": [
    "# Getting values\n",
    "obj.values"
   ]
  },
  {
   "cell_type": "markdown",
   "id": "12c58aa6",
   "metadata": {},
   "source": [
    "#### **Name and Index:**</br>\n",
    "You can give the Series a name and assign labels to the index:"
   ]
  },
  {
   "cell_type": "code",
   "execution_count": 9,
   "id": "106087f7",
   "metadata": {
    "ExecuteTime": {
     "end_time": "2023-12-14T22:06:43.939850Z",
     "start_time": "2023-12-14T22:06:43.823038Z"
    }
   },
   "outputs": [
    {
     "data": {
      "text/plain": [
       "Alphabet\n",
       "A    10\n",
       "B    20\n",
       "C    30\n",
       "D    40\n",
       "E    50\n",
       "Name: Cell-Reference, dtype: int64"
      ]
     },
     "execution_count": 9,
     "metadata": {},
     "output_type": "execute_result"
    }
   ],
   "source": [
    "obj.name = 'Cell-Reference'\n",
    "obj.index.name = 'Alphabet'\n",
    "obj"
   ]
  },
  {
   "cell_type": "markdown",
   "id": "28922d76",
   "metadata": {},
   "source": [
    "### When to use Series\n",
    "Series are a fundamental building block for data analysis in pandas.\n",
    "\n",
    "\n",
    "We should use pandas Series if all of the following statements hold: \n",
    "- when you want to work with a single variable or feature.\n",
    "- when you want to perform efficient data manipulations.\n",
    "- When you wan to take advantage of the rich functionality provided by the pandas library. \n"
   ]
  },
  {
   "cell_type": "code",
   "execution_count": null,
   "id": "787d3201",
   "metadata": {},
   "outputs": [],
   "source": []
  },
  {
   "cell_type": "markdown",
   "id": "403d87a7",
   "metadata": {},
   "source": [
    "### Dataframe\n",
    "#### Creating a Dataframe\n",
    "We can create a dataframe by calling the `DataFrame()` constructor. The main arguments in the constructor are the data, index and columns. The data that is passed in can be in the form of other data structures (lists, dictionaries or numpy arrays) or by loading in a file.\n",
    "\n",
    "Let's start our examples by first importing the Pandas library:"
   ]
  },
  {
   "cell_type": "code",
   "execution_count": 10,
   "id": "3a953225",
   "metadata": {
    "ExecuteTime": {
     "end_time": "2023-12-14T22:06:44.044126Z",
     "start_time": "2023-12-14T22:06:43.943856Z"
    }
   },
   "outputs": [],
   "source": [
    "import pandas as pd"
   ]
  },
  {
   "cell_type": "markdown",
   "id": "9df4db1b",
   "metadata": {},
   "source": [
    "#### Dataframes from other Data Structures\n",
    "\n",
    "We now look at some examples on how to create a dataframe from various data structures in Python.\n",
    "\n",
    "Using **lists**, we need to create a list of lists (nested list) with the relevant data. We then also need to pass an index (player names in this example) and column names."
   ]
  },
  {
   "cell_type": "code",
   "execution_count": 11,
   "id": "0f036119",
   "metadata": {
    "ExecuteTime": {
     "end_time": "2023-12-14T22:06:44.168080Z",
     "start_time": "2023-12-14T22:06:44.050130Z"
    }
   },
   "outputs": [
    {
     "data": {
      "text/html": [
       "<div>\n",
       "<style scoped>\n",
       "    .dataframe tbody tr th:only-of-type {\n",
       "        vertical-align: middle;\n",
       "    }\n",
       "\n",
       "    .dataframe tbody tr th {\n",
       "        vertical-align: top;\n",
       "    }\n",
       "\n",
       "    .dataframe thead th {\n",
       "        text-align: right;\n",
       "    }\n",
       "</style>\n",
       "<table border=\"1\" class=\"dataframe\">\n",
       "  <thead>\n",
       "    <tr style=\"text-align: right;\">\n",
       "      <th></th>\n",
       "      <th>Department</th>\n",
       "      <th>Age</th>\n",
       "      <th>Salary</th>\n",
       "    </tr>\n",
       "  </thead>\n",
       "  <tbody>\n",
       "    <tr>\n",
       "      <th>Idris</th>\n",
       "      <td>HR</td>\n",
       "      <td>25</td>\n",
       "      <td>50000</td>\n",
       "    </tr>\n",
       "    <tr>\n",
       "      <th>Doyin</th>\n",
       "      <td>IT</td>\n",
       "      <td>26</td>\n",
       "      <td>60000</td>\n",
       "    </tr>\n",
       "    <tr>\n",
       "      <th>Temitayo</th>\n",
       "      <td>Finance</td>\n",
       "      <td>27</td>\n",
       "      <td>45000</td>\n",
       "    </tr>\n",
       "  </tbody>\n",
       "</table>\n",
       "</div>"
      ],
      "text/plain": [
       "         Department  Age  Salary\n",
       "Idris            HR   25   50000\n",
       "Doyin            IT   26   60000\n",
       "Temitayo    Finance   27   45000"
      ]
     },
     "execution_count": 11,
     "metadata": {},
     "output_type": "execute_result"
    }
   ],
   "source": [
    "# Create list of lists containing data.\n",
    "list_df = [[\"HR\", 25, 50000], [\"IT\", 26, 60000], [\"Finance\" ,27, 45000]]\n",
    "\n",
    "# Create index - names of Staffs.\n",
    "index = ['Idris', 'Doyin', 'Temitayo']\n",
    "\n",
    "# Create column names.\n",
    "columns = ['Department', 'Age', 'Salary']\n",
    "\n",
    "# Create dataframe by passing in data, index and columns.\n",
    "pd.DataFrame(data=list_df, index=index, columns=columns)"
   ]
  },
  {
   "cell_type": "markdown",
   "id": "57918e7d",
   "metadata": {},
   "source": [
    "Using **dictionaries**, we need to create a dictionary with the relevant data.\n",
    "\n",
    "The keys should be the column names, while the values should be the data entries for that column. We then also need to pass an index. Note that because the keys account for the column names, we don't have to pass in an argument for columns."
   ]
  },
  {
   "cell_type": "code",
   "execution_count": 12,
   "id": "2a8b61d5",
   "metadata": {
    "ExecuteTime": {
     "end_time": "2023-12-14T22:06:44.347670Z",
     "start_time": "2023-12-14T22:06:44.172086Z"
    }
   },
   "outputs": [
    {
     "data": {
      "text/html": [
       "<div>\n",
       "<style scoped>\n",
       "    .dataframe tbody tr th:only-of-type {\n",
       "        vertical-align: middle;\n",
       "    }\n",
       "\n",
       "    .dataframe tbody tr th {\n",
       "        vertical-align: top;\n",
       "    }\n",
       "\n",
       "    .dataframe thead th {\n",
       "        text-align: right;\n",
       "    }\n",
       "</style>\n",
       "<table border=\"1\" class=\"dataframe\">\n",
       "  <thead>\n",
       "    <tr style=\"text-align: right;\">\n",
       "      <th></th>\n",
       "      <th>Name</th>\n",
       "      <th>Age</th>\n",
       "      <th>Salary</th>\n",
       "      <th>Department</th>\n",
       "    </tr>\n",
       "  </thead>\n",
       "  <tbody>\n",
       "    <tr>\n",
       "      <th>0</th>\n",
       "      <td>Idris</td>\n",
       "      <td>25</td>\n",
       "      <td>50000</td>\n",
       "      <td>HR</td>\n",
       "    </tr>\n",
       "    <tr>\n",
       "      <th>1</th>\n",
       "      <td>Doyin</td>\n",
       "      <td>26</td>\n",
       "      <td>60000</td>\n",
       "      <td>IT</td>\n",
       "    </tr>\n",
       "    <tr>\n",
       "      <th>2</th>\n",
       "      <td>Temitayo</td>\n",
       "      <td>27</td>\n",
       "      <td>45000</td>\n",
       "      <td>Finance</td>\n",
       "    </tr>\n",
       "    <tr>\n",
       "      <th>3</th>\n",
       "      <td>Abdullahi</td>\n",
       "      <td>28</td>\n",
       "      <td>70000</td>\n",
       "      <td>IT</td>\n",
       "    </tr>\n",
       "    <tr>\n",
       "      <th>4</th>\n",
       "      <td>Yima</td>\n",
       "      <td>29</td>\n",
       "      <td>55000</td>\n",
       "      <td>Marketing</td>\n",
       "    </tr>\n",
       "  </tbody>\n",
       "</table>\n",
       "</div>"
      ],
      "text/plain": [
       "        Name  Age  Salary Department\n",
       "0      Idris   25   50000         HR\n",
       "1      Doyin   26   60000         IT\n",
       "2   Temitayo   27   45000    Finance\n",
       "3  Abdullahi   28   70000         IT\n",
       "4       Yima   29   55000  Marketing"
      ]
     },
     "execution_count": 12,
     "metadata": {},
     "output_type": "execute_result"
    }
   ],
   "source": [
    "# Constructing a dataframe\n",
    "# There are many ways to construct a DataFrame, though one of the most common is from a dictionary of equal-length lists\n",
    "data = {\"Name\": [\"Idris\", \"Doyin\", \"Temitayo\", \"Abdullahi\", \"Yima\"],\n",
    "        \"Age\": [25,26,27,28,29],\n",
    "        'Salary': [50000, 60000, 45000, 70000, 55000],\n",
    "    'Department': ['HR', 'IT', 'Finance', 'IT', 'Marketing']}\n",
    "\n",
    "# Creating a dataframe from the data above\n",
    "frame = pd.DataFrame(data)\n",
    "\n",
    "# Reading the dataframe\n",
    "frame"
   ]
  },
  {
   "cell_type": "markdown",
   "id": "98e338dd",
   "metadata": {},
   "source": [
    "Using **numpy arrays**, we need to create a numpy array with the relevant data. We then also need to pass an index (player names) and column names."
   ]
  },
  {
   "cell_type": "code",
   "execution_count": 13,
   "id": "0df49122",
   "metadata": {
    "ExecuteTime": {
     "end_time": "2023-12-14T22:06:44.574041Z",
     "start_time": "2023-12-14T22:06:44.352674Z"
    }
   },
   "outputs": [],
   "source": [
    "# Firstly, we import the nump package\n",
    "import numpy as np"
   ]
  },
  {
   "cell_type": "code",
   "execution_count": 14,
   "id": "7363cf2c",
   "metadata": {
    "ExecuteTime": {
     "end_time": "2023-12-14T22:06:44.729470Z",
     "start_time": "2023-12-14T22:06:44.579044Z"
    }
   },
   "outputs": [
    {
     "data": {
      "text/html": [
       "<div>\n",
       "<style scoped>\n",
       "    .dataframe tbody tr th:only-of-type {\n",
       "        vertical-align: middle;\n",
       "    }\n",
       "\n",
       "    .dataframe tbody tr th {\n",
       "        vertical-align: top;\n",
       "    }\n",
       "\n",
       "    .dataframe thead th {\n",
       "        text-align: right;\n",
       "    }\n",
       "</style>\n",
       "<table border=\"1\" class=\"dataframe\">\n",
       "  <thead>\n",
       "    <tr style=\"text-align: right;\">\n",
       "      <th></th>\n",
       "      <th>Department</th>\n",
       "      <th>Age</th>\n",
       "      <th>Salary</th>\n",
       "    </tr>\n",
       "  </thead>\n",
       "  <tbody>\n",
       "    <tr>\n",
       "      <th>Idris</th>\n",
       "      <td>HR</td>\n",
       "      <td>25</td>\n",
       "      <td>50000</td>\n",
       "    </tr>\n",
       "    <tr>\n",
       "      <th>Doyin</th>\n",
       "      <td>IT</td>\n",
       "      <td>26</td>\n",
       "      <td>60000</td>\n",
       "    </tr>\n",
       "    <tr>\n",
       "      <th>Temitayo</th>\n",
       "      <td>Finance</td>\n",
       "      <td>27</td>\n",
       "      <td>45000</td>\n",
       "    </tr>\n",
       "  </tbody>\n",
       "</table>\n",
       "</div>"
      ],
      "text/plain": [
       "         Department Age Salary\n",
       "Idris            HR  25  50000\n",
       "Doyin            IT  26  60000\n",
       "Temitayo    Finance  27  45000"
      ]
     },
     "execution_count": 14,
     "metadata": {},
     "output_type": "execute_result"
    }
   ],
   "source": [
    "# Create numpy array containing data.\n",
    "array_df = np.array([[\"HR\", 25, 50000], [\"IT\", 26, 60000], [\"Finance\" ,27, 45000]])\n",
    "\n",
    "# Create index - names of Staffs.\n",
    "index = ['Idris', 'Doyin', 'Temitayo']\n",
    "\n",
    "# Create column names.\n",
    "columns = ['Department', 'Age', 'Salary']\n",
    "\n",
    "\n",
    "# Create dataframe by passing in data, index and columns.\n",
    "pd.DataFrame(data=array_df, index=index, columns=columns)"
   ]
  },
  {
   "cell_type": "markdown",
   "id": "dcda51ca",
   "metadata": {},
   "source": [
    "### When to use Dataframes\n",
    "Pandas dataframes can accommodate heterogeneous data. This makes them the choice data structure for manipulating often messy data (e.g tabular data from spreadsheets, or SQL tables).\n",
    "\n",
    "We should use a Pandas dataframe if all of the following statements hold:\n",
    "\n",
    "* We have 2-dimensional data (rows and columns)\n",
    "* The data type is the same within a column\n",
    "* We are interested in the index (rows) and column names"
   ]
  },
  {
   "cell_type": "code",
   "execution_count": null,
   "id": "14029b7f",
   "metadata": {},
   "outputs": [],
   "source": []
  },
  {
   "cell_type": "code",
   "execution_count": null,
   "id": "07bf614b",
   "metadata": {},
   "outputs": [],
   "source": []
  },
  {
   "cell_type": "markdown",
   "id": "d8835df1",
   "metadata": {},
   "source": [
    "## IO Tools (Input/Output):\n",
    "   - pd.read_csv(): Reading CSV files into DataFrames.\n",
    "   - pd.read_excel(): Reading Excel files into DataFrames.\n",
    "   - pd.read_sql(): Reading SQL database tables into DataFrames.\n",
    "   - pd.to_csv(): Writing DataFrames to CSV files.\n",
    "   - pd.to_excel(): Writing DataFrames to Excel files."
   ]
  },
  {
   "cell_type": "markdown",
   "id": "b05beedd",
   "metadata": {},
   "source": [
    "### Reading CSV File:"
   ]
  },
  {
   "cell_type": "code",
   "execution_count": 15,
   "id": "57c3a8e0",
   "metadata": {
    "ExecuteTime": {
     "end_time": "2023-12-14T22:06:44.892748Z",
     "start_time": "2023-12-14T22:06:44.734475Z"
    }
   },
   "outputs": [
    {
     "data": {
      "text/plain": [
       "'C:\\\\Users\\\\I\\\\Documents\\\\GitHub\\\\AltSchoolAfrica-Circle-104-Collaboration'"
      ]
     },
     "execution_count": 15,
     "metadata": {},
     "output_type": "execute_result"
    }
   ],
   "source": [
    "%pwd"
   ]
  },
  {
   "cell_type": "markdown",
   "id": "70d838c6",
   "metadata": {},
   "source": [
    "We use the `head()` function to only look at the first 5 records of our data. This is helpful if the dataframe has many rows and loading it will take lots of time.\n"
   ]
  },
  {
   "cell_type": "code",
   "execution_count": 16,
   "id": "80346af1",
   "metadata": {
    "ExecuteTime": {
     "end_time": "2023-12-14T22:06:45.542118Z",
     "start_time": "2023-12-14T22:06:44.896750Z"
    }
   },
   "outputs": [
    {
     "name": "stdout",
     "output_type": "stream",
     "text": [
      "DataFrame from CSV:\n"
     ]
    },
    {
     "data": {
      "text/html": [
       "<div>\n",
       "<style scoped>\n",
       "    .dataframe tbody tr th:only-of-type {\n",
       "        vertical-align: middle;\n",
       "    }\n",
       "\n",
       "    .dataframe tbody tr th {\n",
       "        vertical-align: top;\n",
       "    }\n",
       "\n",
       "    .dataframe thead th {\n",
       "        text-align: right;\n",
       "    }\n",
       "</style>\n",
       "<table border=\"1\" class=\"dataframe\">\n",
       "  <thead>\n",
       "    <tr style=\"text-align: right;\">\n",
       "      <th></th>\n",
       "      <th>Date</th>\n",
       "      <th>Day</th>\n",
       "      <th>Month</th>\n",
       "      <th>Year</th>\n",
       "      <th>Customer_Age</th>\n",
       "      <th>Age_Group</th>\n",
       "      <th>Customer_Gender</th>\n",
       "      <th>Country</th>\n",
       "      <th>State</th>\n",
       "      <th>Product_Category</th>\n",
       "      <th>Sub_Category</th>\n",
       "      <th>Product</th>\n",
       "      <th>Order_Quantity</th>\n",
       "      <th>Unit_Cost</th>\n",
       "      <th>Unit_Price</th>\n",
       "      <th>Profit</th>\n",
       "      <th>Cost</th>\n",
       "      <th>Revenue</th>\n",
       "      <th>Sales</th>\n",
       "    </tr>\n",
       "  </thead>\n",
       "  <tbody>\n",
       "    <tr>\n",
       "      <th>0</th>\n",
       "      <td>11/26/2013</td>\n",
       "      <td>26.0</td>\n",
       "      <td>November</td>\n",
       "      <td>2013.0</td>\n",
       "      <td>19.0</td>\n",
       "      <td>Youth (&lt;25)</td>\n",
       "      <td>M</td>\n",
       "      <td>Canada</td>\n",
       "      <td>British Columbia</td>\n",
       "      <td>Accessories</td>\n",
       "      <td>Bike Racks</td>\n",
       "      <td>Hitch Rack - 4-Bike</td>\n",
       "      <td>8.0</td>\n",
       "      <td>45.0</td>\n",
       "      <td>120.0</td>\n",
       "      <td>590.0</td>\n",
       "      <td>360.0</td>\n",
       "      <td>950.0</td>\n",
       "      <td>960.0</td>\n",
       "    </tr>\n",
       "    <tr>\n",
       "      <th>1</th>\n",
       "      <td>11/26/2015</td>\n",
       "      <td>26.0</td>\n",
       "      <td>November</td>\n",
       "      <td>2015.0</td>\n",
       "      <td>19.0</td>\n",
       "      <td>Youth (&lt;25)</td>\n",
       "      <td>M</td>\n",
       "      <td>Canada</td>\n",
       "      <td>British Columbia</td>\n",
       "      <td>Accessories</td>\n",
       "      <td>Bike Racks</td>\n",
       "      <td>Hitch Rack - 4-Bike</td>\n",
       "      <td>8.0</td>\n",
       "      <td>45.0</td>\n",
       "      <td>120.0</td>\n",
       "      <td>590.0</td>\n",
       "      <td>360.0</td>\n",
       "      <td>950.0</td>\n",
       "      <td>960.0</td>\n",
       "    </tr>\n",
       "    <tr>\n",
       "      <th>2</th>\n",
       "      <td>3/23/2014</td>\n",
       "      <td>23.0</td>\n",
       "      <td>March</td>\n",
       "      <td>2014.0</td>\n",
       "      <td>49.0</td>\n",
       "      <td>Adults (35-64)</td>\n",
       "      <td>M</td>\n",
       "      <td>Australia</td>\n",
       "      <td>New South Wales</td>\n",
       "      <td>Accessories</td>\n",
       "      <td>Bike Racks</td>\n",
       "      <td>Hitch Rack - 4-Bike</td>\n",
       "      <td>23.0</td>\n",
       "      <td>45.0</td>\n",
       "      <td>120.0</td>\n",
       "      <td>1366.0</td>\n",
       "      <td>1035.0</td>\n",
       "      <td>2401.0</td>\n",
       "      <td>2760.0</td>\n",
       "    </tr>\n",
       "    <tr>\n",
       "      <th>3</th>\n",
       "      <td>3/23/2016</td>\n",
       "      <td>23.0</td>\n",
       "      <td>March</td>\n",
       "      <td>2016.0</td>\n",
       "      <td>49.0</td>\n",
       "      <td>Adults (35-64)</td>\n",
       "      <td>M</td>\n",
       "      <td>Australia</td>\n",
       "      <td>New South Wales</td>\n",
       "      <td>Accessories</td>\n",
       "      <td>Bike Racks</td>\n",
       "      <td>Hitch Rack - 4-Bike</td>\n",
       "      <td>20.0</td>\n",
       "      <td>45.0</td>\n",
       "      <td>120.0</td>\n",
       "      <td>1188.0</td>\n",
       "      <td>900.0</td>\n",
       "      <td>2088.0</td>\n",
       "      <td>2400.0</td>\n",
       "    </tr>\n",
       "    <tr>\n",
       "      <th>4</th>\n",
       "      <td>5/15/2014</td>\n",
       "      <td>15.0</td>\n",
       "      <td>May</td>\n",
       "      <td>2014.0</td>\n",
       "      <td>47.0</td>\n",
       "      <td>Adults (35-64)</td>\n",
       "      <td>F</td>\n",
       "      <td>Australia</td>\n",
       "      <td>New South Wales</td>\n",
       "      <td>Accessories</td>\n",
       "      <td>Bike Racks</td>\n",
       "      <td>Hitch Rack - 4-Bike</td>\n",
       "      <td>4.0</td>\n",
       "      <td>45.0</td>\n",
       "      <td>120.0</td>\n",
       "      <td>238.0</td>\n",
       "      <td>180.0</td>\n",
       "      <td>418.0</td>\n",
       "      <td>480.0</td>\n",
       "    </tr>\n",
       "  </tbody>\n",
       "</table>\n",
       "</div>"
      ],
      "text/plain": [
       "         Date   Day     Month    Year  Customer_Age       Age_Group  \\\n",
       "0  11/26/2013  26.0  November  2013.0          19.0     Youth (<25)   \n",
       "1  11/26/2015  26.0  November  2015.0          19.0     Youth (<25)   \n",
       "2   3/23/2014  23.0     March  2014.0          49.0  Adults (35-64)   \n",
       "3   3/23/2016  23.0     March  2016.0          49.0  Adults (35-64)   \n",
       "4   5/15/2014  15.0       May  2014.0          47.0  Adults (35-64)   \n",
       "\n",
       "  Customer_Gender    Country             State Product_Category Sub_Category  \\\n",
       "0               M     Canada  British Columbia      Accessories   Bike Racks   \n",
       "1               M     Canada  British Columbia      Accessories   Bike Racks   \n",
       "2               M  Australia   New South Wales      Accessories   Bike Racks   \n",
       "3               M  Australia   New South Wales      Accessories   Bike Racks   \n",
       "4               F  Australia   New South Wales      Accessories   Bike Racks   \n",
       "\n",
       "               Product  Order_Quantity  Unit_Cost  Unit_Price  Profit    Cost  \\\n",
       "0  Hitch Rack - 4-Bike             8.0       45.0       120.0   590.0   360.0   \n",
       "1  Hitch Rack - 4-Bike             8.0       45.0       120.0   590.0   360.0   \n",
       "2  Hitch Rack - 4-Bike            23.0       45.0       120.0  1366.0  1035.0   \n",
       "3  Hitch Rack - 4-Bike            20.0       45.0       120.0  1188.0   900.0   \n",
       "4  Hitch Rack - 4-Bike             4.0       45.0       120.0   238.0   180.0   \n",
       "\n",
       "   Revenue   Sales  \n",
       "0    950.0   960.0  \n",
       "1    950.0   960.0  \n",
       "2   2401.0  2760.0  \n",
       "3   2088.0  2400.0  \n",
       "4    418.0   480.0  "
      ]
     },
     "execution_count": 16,
     "metadata": {},
     "output_type": "execute_result"
    }
   ],
   "source": [
    "# Reading a CSV file into a DataFrame\n",
    "csv_file_path = '..//AltSchool-DataScience//dataset//sales_data.csv'\n",
    "df_csv = pd.read_csv(csv_file_path)\n",
    "\n",
    "# Displaying the DataFrame\n",
    "print(\"DataFrame from CSV:\")\n",
    "df_csv.head()\n"
   ]
  },
  {
   "cell_type": "markdown",
   "id": "7b0cb652",
   "metadata": {},
   "source": [
    "We use the `tail()` function to only look at the last 5 records of our data. This is helpful if the dataframe has many rows and loading it will take lots of time.\n"
   ]
  },
  {
   "cell_type": "code",
   "execution_count": 17,
   "id": "9dca9442",
   "metadata": {
    "ExecuteTime": {
     "end_time": "2023-12-14T22:06:45.590138Z",
     "start_time": "2023-12-14T22:06:45.547121Z"
    }
   },
   "outputs": [
    {
     "data": {
      "text/html": [
       "<div>\n",
       "<style scoped>\n",
       "    .dataframe tbody tr th:only-of-type {\n",
       "        vertical-align: middle;\n",
       "    }\n",
       "\n",
       "    .dataframe tbody tr th {\n",
       "        vertical-align: top;\n",
       "    }\n",
       "\n",
       "    .dataframe thead th {\n",
       "        text-align: right;\n",
       "    }\n",
       "</style>\n",
       "<table border=\"1\" class=\"dataframe\">\n",
       "  <thead>\n",
       "    <tr style=\"text-align: right;\">\n",
       "      <th></th>\n",
       "      <th>Date</th>\n",
       "      <th>Day</th>\n",
       "      <th>Month</th>\n",
       "      <th>Year</th>\n",
       "      <th>Customer_Age</th>\n",
       "      <th>Age_Group</th>\n",
       "      <th>Customer_Gender</th>\n",
       "      <th>Country</th>\n",
       "      <th>State</th>\n",
       "      <th>Product_Category</th>\n",
       "      <th>Sub_Category</th>\n",
       "      <th>Product</th>\n",
       "      <th>Order_Quantity</th>\n",
       "      <th>Unit_Cost</th>\n",
       "      <th>Unit_Price</th>\n",
       "      <th>Profit</th>\n",
       "      <th>Cost</th>\n",
       "      <th>Revenue</th>\n",
       "      <th>Sales</th>\n",
       "    </tr>\n",
       "  </thead>\n",
       "  <tbody>\n",
       "    <tr>\n",
       "      <th>113033</th>\n",
       "      <td>4/2/2016</td>\n",
       "      <td>2.0</td>\n",
       "      <td>April</td>\n",
       "      <td>2016.0</td>\n",
       "      <td>18.0</td>\n",
       "      <td>Youth (&lt;25)</td>\n",
       "      <td>M</td>\n",
       "      <td>Australia</td>\n",
       "      <td>Queensland</td>\n",
       "      <td>Clothing</td>\n",
       "      <td>Vests</td>\n",
       "      <td>Classic Vest, M</td>\n",
       "      <td>22.0</td>\n",
       "      <td>24.0</td>\n",
       "      <td>64.0</td>\n",
       "      <td>655.0</td>\n",
       "      <td>528.0</td>\n",
       "      <td>1183.0</td>\n",
       "      <td>1408.0</td>\n",
       "    </tr>\n",
       "    <tr>\n",
       "      <th>113034</th>\n",
       "      <td>3/4/2014</td>\n",
       "      <td>4.0</td>\n",
       "      <td>March</td>\n",
       "      <td>2014.0</td>\n",
       "      <td>37.0</td>\n",
       "      <td>Adults (35-64)</td>\n",
       "      <td>F</td>\n",
       "      <td>France</td>\n",
       "      <td>Seine (Paris)</td>\n",
       "      <td>Clothing</td>\n",
       "      <td>Vests</td>\n",
       "      <td>Classic Vest, L</td>\n",
       "      <td>24.0</td>\n",
       "      <td>24.0</td>\n",
       "      <td>64.0</td>\n",
       "      <td>684.0</td>\n",
       "      <td>576.0</td>\n",
       "      <td>1260.0</td>\n",
       "      <td>1536.0</td>\n",
       "    </tr>\n",
       "    <tr>\n",
       "      <th>113035</th>\n",
       "      <td>3/4/2016</td>\n",
       "      <td>4.0</td>\n",
       "      <td>March</td>\n",
       "      <td>2016.0</td>\n",
       "      <td>37.0</td>\n",
       "      <td>Adults (35-64)</td>\n",
       "      <td>F</td>\n",
       "      <td>France</td>\n",
       "      <td>Seine (Paris)</td>\n",
       "      <td>Clothing</td>\n",
       "      <td>Vests</td>\n",
       "      <td>Classic Vest, L</td>\n",
       "      <td>23.0</td>\n",
       "      <td>24.0</td>\n",
       "      <td>64.0</td>\n",
       "      <td>655.0</td>\n",
       "      <td>552.0</td>\n",
       "      <td>1207.0</td>\n",
       "      <td>1472.0</td>\n",
       "    </tr>\n",
       "    <tr>\n",
       "      <th>113036</th>\n",
       "      <td>NaN</td>\n",
       "      <td>NaN</td>\n",
       "      <td>NaN</td>\n",
       "      <td>NaN</td>\n",
       "      <td>NaN</td>\n",
       "      <td>NaN</td>\n",
       "      <td>NaN</td>\n",
       "      <td>NaN</td>\n",
       "      <td>NaN</td>\n",
       "      <td>NaN</td>\n",
       "      <td>NaN</td>\n",
       "      <td>NaN</td>\n",
       "      <td>NaN</td>\n",
       "      <td>NaN</td>\n",
       "      <td>NaN</td>\n",
       "      <td>NaN</td>\n",
       "      <td>NaN</td>\n",
       "      <td>NaN</td>\n",
       "      <td>NaN</td>\n",
       "    </tr>\n",
       "    <tr>\n",
       "      <th>113037</th>\n",
       "      <td>NaN</td>\n",
       "      <td>NaN</td>\n",
       "      <td>NaN</td>\n",
       "      <td>NaN</td>\n",
       "      <td>NaN</td>\n",
       "      <td>NaN</td>\n",
       "      <td>NaN</td>\n",
       "      <td>NaN</td>\n",
       "      <td>NaN</td>\n",
       "      <td>NaN</td>\n",
       "      <td>NaN</td>\n",
       "      <td>NaN</td>\n",
       "      <td>1345316.0</td>\n",
       "      <td>NaN</td>\n",
       "      <td>NaN</td>\n",
       "      <td>NaN</td>\n",
       "      <td>NaN</td>\n",
       "      <td>85271008.0</td>\n",
       "      <td>NaN</td>\n",
       "    </tr>\n",
       "  </tbody>\n",
       "</table>\n",
       "</div>"
      ],
      "text/plain": [
       "            Date  Day  Month    Year  Customer_Age       Age_Group  \\\n",
       "113033  4/2/2016  2.0  April  2016.0          18.0     Youth (<25)   \n",
       "113034  3/4/2014  4.0  March  2014.0          37.0  Adults (35-64)   \n",
       "113035  3/4/2016  4.0  March  2016.0          37.0  Adults (35-64)   \n",
       "113036       NaN  NaN    NaN     NaN           NaN             NaN   \n",
       "113037       NaN  NaN    NaN     NaN           NaN             NaN   \n",
       "\n",
       "       Customer_Gender    Country          State Product_Category  \\\n",
       "113033               M  Australia     Queensland         Clothing   \n",
       "113034               F     France  Seine (Paris)         Clothing   \n",
       "113035               F     France  Seine (Paris)         Clothing   \n",
       "113036             NaN        NaN            NaN              NaN   \n",
       "113037             NaN        NaN            NaN              NaN   \n",
       "\n",
       "       Sub_Category          Product  Order_Quantity  Unit_Cost  Unit_Price  \\\n",
       "113033        Vests  Classic Vest, M            22.0       24.0        64.0   \n",
       "113034        Vests  Classic Vest, L            24.0       24.0        64.0   \n",
       "113035        Vests  Classic Vest, L            23.0       24.0        64.0   \n",
       "113036          NaN              NaN             NaN        NaN         NaN   \n",
       "113037          NaN              NaN       1345316.0        NaN         NaN   \n",
       "\n",
       "        Profit   Cost     Revenue   Sales  \n",
       "113033   655.0  528.0      1183.0  1408.0  \n",
       "113034   684.0  576.0      1260.0  1536.0  \n",
       "113035   655.0  552.0      1207.0  1472.0  \n",
       "113036     NaN    NaN         NaN     NaN  \n",
       "113037     NaN    NaN  85271008.0     NaN  "
      ]
     },
     "execution_count": 17,
     "metadata": {},
     "output_type": "execute_result"
    }
   ],
   "source": [
    "df_csv.tail()"
   ]
  },
  {
   "cell_type": "markdown",
   "id": "2eea74cf",
   "metadata": {},
   "source": [
    "### Reading Excel File:"
   ]
  },
  {
   "cell_type": "code",
   "execution_count": 18,
   "id": "05c54825",
   "metadata": {
    "ExecuteTime": {
     "end_time": "2023-12-14T22:06:46.901287Z",
     "start_time": "2023-12-14T22:06:45.601114Z"
    }
   },
   "outputs": [
    {
     "name": "stdout",
     "output_type": "stream",
     "text": [
      "\n",
      "DataFrame from Excel:\n"
     ]
    },
    {
     "data": {
      "text/html": [
       "<div>\n",
       "<style scoped>\n",
       "    .dataframe tbody tr th:only-of-type {\n",
       "        vertical-align: middle;\n",
       "    }\n",
       "\n",
       "    .dataframe tbody tr th {\n",
       "        vertical-align: top;\n",
       "    }\n",
       "\n",
       "    .dataframe thead th {\n",
       "        text-align: right;\n",
       "    }\n",
       "</style>\n",
       "<table border=\"1\" class=\"dataframe\">\n",
       "  <thead>\n",
       "    <tr style=\"text-align: right;\">\n",
       "      <th></th>\n",
       "    </tr>\n",
       "  </thead>\n",
       "  <tbody>\n",
       "  </tbody>\n",
       "</table>\n",
       "</div>"
      ],
      "text/plain": [
       "Empty DataFrame\n",
       "Columns: []\n",
       "Index: []"
      ]
     },
     "execution_count": 18,
     "metadata": {},
     "output_type": "execute_result"
    }
   ],
   "source": [
    "# Reading an Excel file into a DataFrame\n",
    "excel_file_path = '..//AltSchool-DataScience//dataset/sales_data_xlsx.xlsx'\n",
    "df_excel = pd.read_excel(excel_file_path, sheet_name='Sheet1')\n",
    "\n",
    "# Displaying the DataFrame\n",
    "print(\"\\nDataFrame from Excel:\")\n",
    "df_excel\n"
   ]
  },
  {
   "cell_type": "markdown",
   "id": "e4afcf9f",
   "metadata": {},
   "source": [
    "### Reading SQL Database:"
   ]
  },
  {
   "cell_type": "code",
   "execution_count": null,
   "id": "2426784f",
   "metadata": {},
   "outputs": [],
   "source": []
  },
  {
   "cell_type": "markdown",
   "id": "c541a4c8",
   "metadata": {},
   "source": [
    "### Writing DataFrames to CSV files"
   ]
  },
  {
   "cell_type": "code",
   "execution_count": 19,
   "id": "684d6d34",
   "metadata": {
    "ExecuteTime": {
     "end_time": "2023-12-14T22:06:49.599028Z",
     "start_time": "2023-12-14T22:06:46.906290Z"
    }
   },
   "outputs": [
    {
     "name": "stdout",
     "output_type": "stream",
     "text": [
      "\n",
      "DataFrame from Written CSV:\n"
     ]
    },
    {
     "data": {
      "text/html": [
       "<div>\n",
       "<style scoped>\n",
       "    .dataframe tbody tr th:only-of-type {\n",
       "        vertical-align: middle;\n",
       "    }\n",
       "\n",
       "    .dataframe tbody tr th {\n",
       "        vertical-align: top;\n",
       "    }\n",
       "\n",
       "    .dataframe thead th {\n",
       "        text-align: right;\n",
       "    }\n",
       "</style>\n",
       "<table border=\"1\" class=\"dataframe\">\n",
       "  <thead>\n",
       "    <tr style=\"text-align: right;\">\n",
       "      <th></th>\n",
       "      <th>Date</th>\n",
       "      <th>Day</th>\n",
       "      <th>Month</th>\n",
       "      <th>Year</th>\n",
       "      <th>Customer_Age</th>\n",
       "      <th>Age_Group</th>\n",
       "      <th>Customer_Gender</th>\n",
       "      <th>Country</th>\n",
       "      <th>State</th>\n",
       "      <th>Product_Category</th>\n",
       "      <th>Sub_Category</th>\n",
       "      <th>Product</th>\n",
       "      <th>Order_Quantity</th>\n",
       "      <th>Unit_Cost</th>\n",
       "      <th>Unit_Price</th>\n",
       "      <th>Profit</th>\n",
       "      <th>Cost</th>\n",
       "      <th>Revenue</th>\n",
       "      <th>Sales</th>\n",
       "    </tr>\n",
       "  </thead>\n",
       "  <tbody>\n",
       "    <tr>\n",
       "      <th>0</th>\n",
       "      <td>11/26/2013</td>\n",
       "      <td>26.0</td>\n",
       "      <td>November</td>\n",
       "      <td>2013.0</td>\n",
       "      <td>19.0</td>\n",
       "      <td>Youth (&lt;25)</td>\n",
       "      <td>M</td>\n",
       "      <td>Canada</td>\n",
       "      <td>British Columbia</td>\n",
       "      <td>Accessories</td>\n",
       "      <td>Bike Racks</td>\n",
       "      <td>Hitch Rack - 4-Bike</td>\n",
       "      <td>8.0</td>\n",
       "      <td>45.0</td>\n",
       "      <td>120.0</td>\n",
       "      <td>590.0</td>\n",
       "      <td>360.0</td>\n",
       "      <td>950.0</td>\n",
       "      <td>960.0</td>\n",
       "    </tr>\n",
       "    <tr>\n",
       "      <th>1</th>\n",
       "      <td>11/26/2015</td>\n",
       "      <td>26.0</td>\n",
       "      <td>November</td>\n",
       "      <td>2015.0</td>\n",
       "      <td>19.0</td>\n",
       "      <td>Youth (&lt;25)</td>\n",
       "      <td>M</td>\n",
       "      <td>Canada</td>\n",
       "      <td>British Columbia</td>\n",
       "      <td>Accessories</td>\n",
       "      <td>Bike Racks</td>\n",
       "      <td>Hitch Rack - 4-Bike</td>\n",
       "      <td>8.0</td>\n",
       "      <td>45.0</td>\n",
       "      <td>120.0</td>\n",
       "      <td>590.0</td>\n",
       "      <td>360.0</td>\n",
       "      <td>950.0</td>\n",
       "      <td>960.0</td>\n",
       "    </tr>\n",
       "    <tr>\n",
       "      <th>2</th>\n",
       "      <td>3/23/2014</td>\n",
       "      <td>23.0</td>\n",
       "      <td>March</td>\n",
       "      <td>2014.0</td>\n",
       "      <td>49.0</td>\n",
       "      <td>Adults (35-64)</td>\n",
       "      <td>M</td>\n",
       "      <td>Australia</td>\n",
       "      <td>New South Wales</td>\n",
       "      <td>Accessories</td>\n",
       "      <td>Bike Racks</td>\n",
       "      <td>Hitch Rack - 4-Bike</td>\n",
       "      <td>23.0</td>\n",
       "      <td>45.0</td>\n",
       "      <td>120.0</td>\n",
       "      <td>1366.0</td>\n",
       "      <td>1035.0</td>\n",
       "      <td>2401.0</td>\n",
       "      <td>2760.0</td>\n",
       "    </tr>\n",
       "    <tr>\n",
       "      <th>3</th>\n",
       "      <td>3/23/2016</td>\n",
       "      <td>23.0</td>\n",
       "      <td>March</td>\n",
       "      <td>2016.0</td>\n",
       "      <td>49.0</td>\n",
       "      <td>Adults (35-64)</td>\n",
       "      <td>M</td>\n",
       "      <td>Australia</td>\n",
       "      <td>New South Wales</td>\n",
       "      <td>Accessories</td>\n",
       "      <td>Bike Racks</td>\n",
       "      <td>Hitch Rack - 4-Bike</td>\n",
       "      <td>20.0</td>\n",
       "      <td>45.0</td>\n",
       "      <td>120.0</td>\n",
       "      <td>1188.0</td>\n",
       "      <td>900.0</td>\n",
       "      <td>2088.0</td>\n",
       "      <td>2400.0</td>\n",
       "    </tr>\n",
       "    <tr>\n",
       "      <th>4</th>\n",
       "      <td>5/15/2014</td>\n",
       "      <td>15.0</td>\n",
       "      <td>May</td>\n",
       "      <td>2014.0</td>\n",
       "      <td>47.0</td>\n",
       "      <td>Adults (35-64)</td>\n",
       "      <td>F</td>\n",
       "      <td>Australia</td>\n",
       "      <td>New South Wales</td>\n",
       "      <td>Accessories</td>\n",
       "      <td>Bike Racks</td>\n",
       "      <td>Hitch Rack - 4-Bike</td>\n",
       "      <td>4.0</td>\n",
       "      <td>45.0</td>\n",
       "      <td>120.0</td>\n",
       "      <td>238.0</td>\n",
       "      <td>180.0</td>\n",
       "      <td>418.0</td>\n",
       "      <td>480.0</td>\n",
       "    </tr>\n",
       "  </tbody>\n",
       "</table>\n",
       "</div>"
      ],
      "text/plain": [
       "         Date   Day     Month    Year  Customer_Age       Age_Group  \\\n",
       "0  11/26/2013  26.0  November  2013.0          19.0     Youth (<25)   \n",
       "1  11/26/2015  26.0  November  2015.0          19.0     Youth (<25)   \n",
       "2   3/23/2014  23.0     March  2014.0          49.0  Adults (35-64)   \n",
       "3   3/23/2016  23.0     March  2016.0          49.0  Adults (35-64)   \n",
       "4   5/15/2014  15.0       May  2014.0          47.0  Adults (35-64)   \n",
       "\n",
       "  Customer_Gender    Country             State Product_Category Sub_Category  \\\n",
       "0               M     Canada  British Columbia      Accessories   Bike Racks   \n",
       "1               M     Canada  British Columbia      Accessories   Bike Racks   \n",
       "2               M  Australia   New South Wales      Accessories   Bike Racks   \n",
       "3               M  Australia   New South Wales      Accessories   Bike Racks   \n",
       "4               F  Australia   New South Wales      Accessories   Bike Racks   \n",
       "\n",
       "               Product  Order_Quantity  Unit_Cost  Unit_Price  Profit    Cost  \\\n",
       "0  Hitch Rack - 4-Bike             8.0       45.0       120.0   590.0   360.0   \n",
       "1  Hitch Rack - 4-Bike             8.0       45.0       120.0   590.0   360.0   \n",
       "2  Hitch Rack - 4-Bike            23.0       45.0       120.0  1366.0  1035.0   \n",
       "3  Hitch Rack - 4-Bike            20.0       45.0       120.0  1188.0   900.0   \n",
       "4  Hitch Rack - 4-Bike             4.0       45.0       120.0   238.0   180.0   \n",
       "\n",
       "   Revenue   Sales  \n",
       "0    950.0   960.0  \n",
       "1    950.0   960.0  \n",
       "2   2401.0  2760.0  \n",
       "3   2088.0  2400.0  \n",
       "4    418.0   480.0  "
      ]
     },
     "execution_count": 19,
     "metadata": {},
     "output_type": "execute_result"
    }
   ],
   "source": [
    "# Writing the DataFrame to a new CSV file\n",
    "output_csv_file = 'output_data.csv'\n",
    "df_csv.to_csv(output_csv_file, index=False)\n",
    "\n",
    "# Reading the written CSV file to verify\n",
    "df_written_csv = pd.read_csv(output_csv_file)\n",
    "print(\"\\nDataFrame from Written CSV:\")\n",
    "df_written_csv.head()\n"
   ]
  },
  {
   "cell_type": "markdown",
   "id": "19f51bdd",
   "metadata": {},
   "source": [
    "### Writing DataFrames to Excel files"
   ]
  },
  {
   "cell_type": "code",
   "execution_count": 20,
   "id": "1b554b4a",
   "metadata": {
    "ExecuteTime": {
     "end_time": "2023-12-14T22:06:49.710105Z",
     "start_time": "2023-12-14T22:06:49.605026Z"
    }
   },
   "outputs": [
    {
     "name": "stdout",
     "output_type": "stream",
     "text": [
      "\n",
      "DataFrame from Written Excel:\n"
     ]
    },
    {
     "data": {
      "text/html": [
       "<div>\n",
       "<style scoped>\n",
       "    .dataframe tbody tr th:only-of-type {\n",
       "        vertical-align: middle;\n",
       "    }\n",
       "\n",
       "    .dataframe tbody tr th {\n",
       "        vertical-align: top;\n",
       "    }\n",
       "\n",
       "    .dataframe thead th {\n",
       "        text-align: right;\n",
       "    }\n",
       "</style>\n",
       "<table border=\"1\" class=\"dataframe\">\n",
       "  <thead>\n",
       "    <tr style=\"text-align: right;\">\n",
       "      <th></th>\n",
       "    </tr>\n",
       "  </thead>\n",
       "  <tbody>\n",
       "  </tbody>\n",
       "</table>\n",
       "</div>"
      ],
      "text/plain": [
       "Empty DataFrame\n",
       "Columns: []\n",
       "Index: []"
      ]
     },
     "execution_count": 20,
     "metadata": {},
     "output_type": "execute_result"
    }
   ],
   "source": [
    "# Writing the DataFrame to a new Excel file\n",
    "output_excel_file = 'output_data.xlsx'\n",
    "df_excel.to_excel(output_excel_file, index=False, sheet_name='Sheet1')\n",
    "\n",
    "# Reading the written Excel file to verify\n",
    "df_written_excel = pd.read_excel(output_excel_file, sheet_name='Sheet1')\n",
    "print(\"\\nDataFrame from Written Excel:\")\n",
    "df_written_excel\n"
   ]
  },
  {
   "cell_type": "markdown",
   "id": "9f4ab4aa",
   "metadata": {},
   "source": [
    "## Data Manipulation:\n",
    "   - Indexing and Selecting Data: Methods to slice, index, and select specific data from DataFrames or Series.\n",
    "   - Merge, Join, and Concatenate: Functions to combine DataFrames based on keys or indices.\n",
    "   - Reshaping and Pivoting: Methods like melt(), pivot(), pivot_table() for reshaping data.\n",
    "   "
   ]
  },
  {
   "cell_type": "code",
   "execution_count": 21,
   "id": "35b69284",
   "metadata": {
    "ExecuteTime": {
     "end_time": "2023-12-14T22:06:49.744105Z",
     "start_time": "2023-12-14T22:06:49.715115Z"
    }
   },
   "outputs": [
    {
     "data": {
      "text/html": [
       "<div>\n",
       "<style scoped>\n",
       "    .dataframe tbody tr th:only-of-type {\n",
       "        vertical-align: middle;\n",
       "    }\n",
       "\n",
       "    .dataframe tbody tr th {\n",
       "        vertical-align: top;\n",
       "    }\n",
       "\n",
       "    .dataframe thead th {\n",
       "        text-align: right;\n",
       "    }\n",
       "</style>\n",
       "<table border=\"1\" class=\"dataframe\">\n",
       "  <thead>\n",
       "    <tr style=\"text-align: right;\">\n",
       "      <th></th>\n",
       "      <th>Name</th>\n",
       "      <th>Age</th>\n",
       "      <th>Salary</th>\n",
       "      <th>Department</th>\n",
       "    </tr>\n",
       "  </thead>\n",
       "  <tbody>\n",
       "    <tr>\n",
       "      <th>0</th>\n",
       "      <td>Idris</td>\n",
       "      <td>25</td>\n",
       "      <td>50000</td>\n",
       "      <td>HR</td>\n",
       "    </tr>\n",
       "    <tr>\n",
       "      <th>1</th>\n",
       "      <td>Doyin</td>\n",
       "      <td>26</td>\n",
       "      <td>60000</td>\n",
       "      <td>IT</td>\n",
       "    </tr>\n",
       "    <tr>\n",
       "      <th>2</th>\n",
       "      <td>Temitayo</td>\n",
       "      <td>27</td>\n",
       "      <td>45000</td>\n",
       "      <td>Finance</td>\n",
       "    </tr>\n",
       "    <tr>\n",
       "      <th>3</th>\n",
       "      <td>Abdullahi</td>\n",
       "      <td>28</td>\n",
       "      <td>70000</td>\n",
       "      <td>IT</td>\n",
       "    </tr>\n",
       "    <tr>\n",
       "      <th>4</th>\n",
       "      <td>Yima</td>\n",
       "      <td>29</td>\n",
       "      <td>55000</td>\n",
       "      <td>Marketing</td>\n",
       "    </tr>\n",
       "  </tbody>\n",
       "</table>\n",
       "</div>"
      ],
      "text/plain": [
       "        Name  Age  Salary Department\n",
       "0      Idris   25   50000         HR\n",
       "1      Doyin   26   60000         IT\n",
       "2   Temitayo   27   45000    Finance\n",
       "3  Abdullahi   28   70000         IT\n",
       "4       Yima   29   55000  Marketing"
      ]
     },
     "execution_count": 21,
     "metadata": {},
     "output_type": "execute_result"
    }
   ],
   "source": [
    "#recall our dataframe called 'frame' above\n",
    "frame"
   ]
  },
  {
   "cell_type": "markdown",
   "id": "24f84c00",
   "metadata": {},
   "source": [
    "### Indexing and Data Selection\n",
    "\n",
    "Accessing data within dataframes is not as straightforward as with the previous data structures. This can be done by index, by column, or by both. Let's work through these methods.\n",
    "\n",
    "#### By Index\n",
    "To access by index only in a dataframe we can use the `iloc` or `loc` functions with the indices in square brackets. The `iloc` function refers to the index location, so we pass in the number of the index, while the `loc` function refers to the name of the index, so we pass in the index name. Use slicing if you want more than one index. Eg:\n",
    "\n",
    "* `dataframe.iloc[index i]` - returns series at index i\n",
    "* `dataframe.iloc[index start: index end]` - returns dataframe from start to end (end not included)\n",
    "* `dataframe.loc['index name']` - returns series of given index name\n",
    "\n",
    "Let's look at a few examples:"
   ]
  },
  {
   "cell_type": "code",
   "execution_count": 22,
   "id": "741babc4",
   "metadata": {
    "ExecuteTime": {
     "end_time": "2023-12-14T22:06:49.858676Z",
     "start_time": "2023-12-14T22:06:49.748110Z"
    }
   },
   "outputs": [
    {
     "data": {
      "text/plain": [
       "Name               Yima\n",
       "Age                  29\n",
       "Salary            55000\n",
       "Department    Marketing\n",
       "Name: 4, dtype: object"
      ]
     },
     "execution_count": 22,
     "metadata": {},
     "output_type": "execute_result"
    }
   ],
   "source": [
    "# Select the 5th row using iloc[].\n",
    "frame.iloc[4]"
   ]
  },
  {
   "cell_type": "code",
   "execution_count": 23,
   "id": "84832a1a",
   "metadata": {
    "ExecuteTime": {
     "end_time": "2023-12-14T22:06:49.992434Z",
     "start_time": "2023-12-14T22:06:49.863702Z"
    }
   },
   "outputs": [
    {
     "data": {
      "text/html": [
       "<div>\n",
       "<style scoped>\n",
       "    .dataframe tbody tr th:only-of-type {\n",
       "        vertical-align: middle;\n",
       "    }\n",
       "\n",
       "    .dataframe tbody tr th {\n",
       "        vertical-align: top;\n",
       "    }\n",
       "\n",
       "    .dataframe thead th {\n",
       "        text-align: right;\n",
       "    }\n",
       "</style>\n",
       "<table border=\"1\" class=\"dataframe\">\n",
       "  <thead>\n",
       "    <tr style=\"text-align: right;\">\n",
       "      <th></th>\n",
       "      <th>Name</th>\n",
       "      <th>Age</th>\n",
       "      <th>Salary</th>\n",
       "      <th>Department</th>\n",
       "    </tr>\n",
       "  </thead>\n",
       "  <tbody>\n",
       "    <tr>\n",
       "      <th>4</th>\n",
       "      <td>Yima</td>\n",
       "      <td>29</td>\n",
       "      <td>55000</td>\n",
       "      <td>Marketing</td>\n",
       "    </tr>\n",
       "  </tbody>\n",
       "</table>\n",
       "</div>"
      ],
      "text/plain": [
       "   Name  Age  Salary Department\n",
       "4  Yima   29   55000  Marketing"
      ]
     },
     "execution_count": 23,
     "metadata": {},
     "output_type": "execute_result"
    }
   ],
   "source": [
    "# Select rows 5 to 10.\n",
    "frame.iloc[4:10]"
   ]
  },
  {
   "cell_type": "code",
   "execution_count": 24,
   "id": "30f55828",
   "metadata": {
    "ExecuteTime": {
     "end_time": "2023-12-14T22:06:50.171005Z",
     "start_time": "2023-12-14T22:06:50.003435Z"
    }
   },
   "outputs": [
    {
     "data": {
      "text/html": [
       "<div>\n",
       "<style scoped>\n",
       "    .dataframe tbody tr th:only-of-type {\n",
       "        vertical-align: middle;\n",
       "    }\n",
       "\n",
       "    .dataframe tbody tr th {\n",
       "        vertical-align: top;\n",
       "    }\n",
       "\n",
       "    .dataframe thead th {\n",
       "        text-align: right;\n",
       "    }\n",
       "</style>\n",
       "<table border=\"1\" class=\"dataframe\">\n",
       "  <thead>\n",
       "    <tr style=\"text-align: right;\">\n",
       "      <th></th>\n",
       "      <th>Name</th>\n",
       "      <th>Age</th>\n",
       "      <th>Salary</th>\n",
       "      <th>Department</th>\n",
       "    </tr>\n",
       "  </thead>\n",
       "  <tbody>\n",
       "    <tr>\n",
       "      <th>0</th>\n",
       "      <td>Idris</td>\n",
       "      <td>25</td>\n",
       "      <td>50000</td>\n",
       "      <td>HR</td>\n",
       "    </tr>\n",
       "  </tbody>\n",
       "</table>\n",
       "</div>"
      ],
      "text/plain": [
       "    Name  Age  Salary Department\n",
       "0  Idris   25   50000         HR"
      ]
     },
     "execution_count": 24,
     "metadata": {},
     "output_type": "execute_result"
    }
   ],
   "source": [
    "# Select the Idris index using loc[].\n",
    "frame[frame['Name'] == 'Idris']"
   ]
  },
  {
   "cell_type": "markdown",
   "id": "0305b732",
   "metadata": {
    "ExecuteTime": {
     "end_time": "2023-12-14T06:42:58.600974Z",
     "start_time": "2023-12-14T06:42:58.591556Z"
    }
   },
   "source": [
    "#### By Column\n",
    "To access by column only we can simply call `dataframe['Column Name']`. If we want more than one column we input a list of column names inside the square brackets:\n",
    "\n",
    "* `dataframe['Column Name']` - returns series of given column\n",
    "* `dataframe[['Column 1', 'Column 2']]` - returns dataframe with the given columns\n",
    "\n",
    "Let's look at examples."
   ]
  },
  {
   "cell_type": "code",
   "execution_count": 25,
   "id": "a71ca674",
   "metadata": {
    "ExecuteTime": {
     "end_time": "2023-12-14T22:06:50.296826Z",
     "start_time": "2023-12-14T22:06:50.179006Z"
    }
   },
   "outputs": [
    {
     "name": "stdout",
     "output_type": "stream",
     "text": [
      "\n",
      "Ages Column:\n"
     ]
    },
    {
     "data": {
      "text/plain": [
       "0    25\n",
       "1    26\n",
       "2    27\n",
       "3    28\n",
       "4    29\n",
       "Name: Age, dtype: int64"
      ]
     },
     "execution_count": 25,
     "metadata": {},
     "output_type": "execute_result"
    }
   ],
   "source": [
    "# Selecting a single column\n",
    "ages = frame['Age']\n",
    "print(\"\\nAges Column:\")\n",
    "ages"
   ]
  },
  {
   "cell_type": "code",
   "execution_count": 26,
   "id": "d2030722",
   "metadata": {
    "ExecuteTime": {
     "end_time": "2023-12-14T22:06:50.466922Z",
     "start_time": "2023-12-14T22:06:50.302831Z"
    }
   },
   "outputs": [
    {
     "name": "stdout",
     "output_type": "stream",
     "text": [
      "\n",
      "Selected Columns:\n"
     ]
    },
    {
     "data": {
      "text/html": [
       "<div>\n",
       "<style scoped>\n",
       "    .dataframe tbody tr th:only-of-type {\n",
       "        vertical-align: middle;\n",
       "    }\n",
       "\n",
       "    .dataframe tbody tr th {\n",
       "        vertical-align: top;\n",
       "    }\n",
       "\n",
       "    .dataframe thead th {\n",
       "        text-align: right;\n",
       "    }\n",
       "</style>\n",
       "<table border=\"1\" class=\"dataframe\">\n",
       "  <thead>\n",
       "    <tr style=\"text-align: right;\">\n",
       "      <th></th>\n",
       "      <th>Name</th>\n",
       "      <th>Salary</th>\n",
       "    </tr>\n",
       "  </thead>\n",
       "  <tbody>\n",
       "    <tr>\n",
       "      <th>0</th>\n",
       "      <td>Idris</td>\n",
       "      <td>50000</td>\n",
       "    </tr>\n",
       "    <tr>\n",
       "      <th>1</th>\n",
       "      <td>Doyin</td>\n",
       "      <td>60000</td>\n",
       "    </tr>\n",
       "    <tr>\n",
       "      <th>2</th>\n",
       "      <td>Temitayo</td>\n",
       "      <td>45000</td>\n",
       "    </tr>\n",
       "    <tr>\n",
       "      <th>3</th>\n",
       "      <td>Abdullahi</td>\n",
       "      <td>70000</td>\n",
       "    </tr>\n",
       "    <tr>\n",
       "      <th>4</th>\n",
       "      <td>Yima</td>\n",
       "      <td>55000</td>\n",
       "    </tr>\n",
       "  </tbody>\n",
       "</table>\n",
       "</div>"
      ],
      "text/plain": [
       "        Name  Salary\n",
       "0      Idris   50000\n",
       "1      Doyin   60000\n",
       "2   Temitayo   45000\n",
       "3  Abdullahi   70000\n",
       "4       Yima   55000"
      ]
     },
     "execution_count": 26,
     "metadata": {},
     "output_type": "execute_result"
    }
   ],
   "source": [
    "# Selecting multiple columns\n",
    "selected_columns = frame[['Name', 'Salary']]\n",
    "print(\"\\nSelected Columns:\")\n",
    "selected_columns"
   ]
  },
  {
   "cell_type": "markdown",
   "id": "d45f2655",
   "metadata": {},
   "source": [
    "#### By index and column\n",
    "We can also select a subset of the dataframe using indices and columns in combination. Let's look at a few examples:"
   ]
  },
  {
   "cell_type": "code",
   "execution_count": 27,
   "id": "9e454a17",
   "metadata": {
    "ExecuteTime": {
     "end_time": "2023-12-14T22:06:50.638239Z",
     "start_time": "2023-12-14T22:06:50.479921Z"
    }
   },
   "outputs": [
    {
     "data": {
      "text/html": [
       "<div>\n",
       "<style scoped>\n",
       "    .dataframe tbody tr th:only-of-type {\n",
       "        vertical-align: middle;\n",
       "    }\n",
       "\n",
       "    .dataframe tbody tr th {\n",
       "        vertical-align: top;\n",
       "    }\n",
       "\n",
       "    .dataframe thead th {\n",
       "        text-align: right;\n",
       "    }\n",
       "</style>\n",
       "<table border=\"1\" class=\"dataframe\">\n",
       "  <thead>\n",
       "    <tr style=\"text-align: right;\">\n",
       "      <th></th>\n",
       "      <th>Salary</th>\n",
       "      <th>Department</th>\n",
       "    </tr>\n",
       "  </thead>\n",
       "  <tbody>\n",
       "    <tr>\n",
       "      <th>0</th>\n",
       "      <td>50000</td>\n",
       "      <td>HR</td>\n",
       "    </tr>\n",
       "    <tr>\n",
       "      <th>1</th>\n",
       "      <td>60000</td>\n",
       "      <td>IT</td>\n",
       "    </tr>\n",
       "    <tr>\n",
       "      <th>2</th>\n",
       "      <td>45000</td>\n",
       "      <td>Finance</td>\n",
       "    </tr>\n",
       "    <tr>\n",
       "      <th>3</th>\n",
       "      <td>70000</td>\n",
       "      <td>IT</td>\n",
       "    </tr>\n",
       "    <tr>\n",
       "      <th>4</th>\n",
       "      <td>55000</td>\n",
       "      <td>Marketing</td>\n",
       "    </tr>\n",
       "  </tbody>\n",
       "</table>\n",
       "</div>"
      ],
      "text/plain": [
       "   Salary Department\n",
       "0   50000         HR\n",
       "1   60000         IT\n",
       "2   45000    Finance\n",
       "3   70000         IT\n",
       "4   55000  Marketing"
      ]
     },
     "execution_count": 27,
     "metadata": {},
     "output_type": "execute_result"
    }
   ],
   "source": [
    "# Select the first 5 rows and first 2 columns - Rows first.\n",
    "frame.iloc[0:5][['Salary', 'Department']]"
   ]
  },
  {
   "cell_type": "code",
   "execution_count": 28,
   "id": "99f90903",
   "metadata": {
    "ExecuteTime": {
     "end_time": "2023-12-14T22:06:50.846891Z",
     "start_time": "2023-12-14T22:06:50.642242Z"
    }
   },
   "outputs": [
    {
     "data": {
      "text/html": [
       "<div>\n",
       "<style scoped>\n",
       "    .dataframe tbody tr th:only-of-type {\n",
       "        vertical-align: middle;\n",
       "    }\n",
       "\n",
       "    .dataframe tbody tr th {\n",
       "        vertical-align: top;\n",
       "    }\n",
       "\n",
       "    .dataframe thead th {\n",
       "        text-align: right;\n",
       "    }\n",
       "</style>\n",
       "<table border=\"1\" class=\"dataframe\">\n",
       "  <thead>\n",
       "    <tr style=\"text-align: right;\">\n",
       "      <th></th>\n",
       "      <th>Salary</th>\n",
       "      <th>Department</th>\n",
       "    </tr>\n",
       "  </thead>\n",
       "  <tbody>\n",
       "    <tr>\n",
       "      <th>0</th>\n",
       "      <td>50000</td>\n",
       "      <td>HR</td>\n",
       "    </tr>\n",
       "    <tr>\n",
       "      <th>1</th>\n",
       "      <td>60000</td>\n",
       "      <td>IT</td>\n",
       "    </tr>\n",
       "    <tr>\n",
       "      <th>2</th>\n",
       "      <td>45000</td>\n",
       "      <td>Finance</td>\n",
       "    </tr>\n",
       "    <tr>\n",
       "      <th>3</th>\n",
       "      <td>70000</td>\n",
       "      <td>IT</td>\n",
       "    </tr>\n",
       "    <tr>\n",
       "      <th>4</th>\n",
       "      <td>55000</td>\n",
       "      <td>Marketing</td>\n",
       "    </tr>\n",
       "  </tbody>\n",
       "</table>\n",
       "</div>"
      ],
      "text/plain": [
       "   Salary Department\n",
       "0   50000         HR\n",
       "1   60000         IT\n",
       "2   45000    Finance\n",
       "3   70000         IT\n",
       "4   55000  Marketing"
      ]
     },
     "execution_count": 28,
     "metadata": {},
     "output_type": "execute_result"
    }
   ],
   "source": [
    "# Select the first 5 rows and first 2 columns - Columns first.\n",
    "frame[['Salary', 'Department']].iloc[0:5]"
   ]
  },
  {
   "cell_type": "markdown",
   "id": "255c5682",
   "metadata": {},
   "source": []
  },
  {
   "cell_type": "markdown",
   "id": "f0e98a43",
   "metadata": {},
   "source": [
    "### Merge, Join, and Concatenate"
   ]
  },
  {
   "cell_type": "markdown",
   "id": "0990b224",
   "metadata": {},
   "source": [
    "*Consider two DataFrames, one containing information about employees and the other about their projects.*"
   ]
  },
  {
   "cell_type": "code",
   "execution_count": 29,
   "id": "56e22c22",
   "metadata": {
    "ExecuteTime": {
     "end_time": "2023-12-14T22:06:51.040982Z",
     "start_time": "2023-12-14T22:06:50.851896Z"
    },
    "scrolled": true
   },
   "outputs": [],
   "source": [
    "# Employee DataFrame\n",
    "employee_data = {'EmployeeID': [1, 2, 3, 4],\n",
    "                 'Name': ['Idris', 'Doyin', 'Temitayo', 'Abdullahi']}\n",
    "employees = pd.DataFrame(employee_data)\n",
    "\n",
    "\n",
    "#  Project DataFrame\n",
    "project_data = {'EmployeeID': [2, 3, 4, 5],\n",
    "                'Project': ['ProjectA', 'ProjectB', 'ProjectC', 'ProjectD']}\n",
    "projects = pd.DataFrame(project_data)\n"
   ]
  },
  {
   "cell_type": "code",
   "execution_count": 30,
   "id": "988cb5f6",
   "metadata": {
    "ExecuteTime": {
     "end_time": "2023-12-14T22:06:51.187690Z",
     "start_time": "2023-12-14T22:06:51.044985Z"
    }
   },
   "outputs": [
    {
     "data": {
      "text/html": [
       "<div>\n",
       "<style scoped>\n",
       "    .dataframe tbody tr th:only-of-type {\n",
       "        vertical-align: middle;\n",
       "    }\n",
       "\n",
       "    .dataframe tbody tr th {\n",
       "        vertical-align: top;\n",
       "    }\n",
       "\n",
       "    .dataframe thead th {\n",
       "        text-align: right;\n",
       "    }\n",
       "</style>\n",
       "<table border=\"1\" class=\"dataframe\">\n",
       "  <thead>\n",
       "    <tr style=\"text-align: right;\">\n",
       "      <th></th>\n",
       "      <th>EmployeeID</th>\n",
       "      <th>Project</th>\n",
       "    </tr>\n",
       "  </thead>\n",
       "  <tbody>\n",
       "    <tr>\n",
       "      <th>0</th>\n",
       "      <td>2</td>\n",
       "      <td>ProjectA</td>\n",
       "    </tr>\n",
       "    <tr>\n",
       "      <th>1</th>\n",
       "      <td>3</td>\n",
       "      <td>ProjectB</td>\n",
       "    </tr>\n",
       "    <tr>\n",
       "      <th>2</th>\n",
       "      <td>4</td>\n",
       "      <td>ProjectC</td>\n",
       "    </tr>\n",
       "    <tr>\n",
       "      <th>3</th>\n",
       "      <td>5</td>\n",
       "      <td>ProjectD</td>\n",
       "    </tr>\n",
       "  </tbody>\n",
       "</table>\n",
       "</div>"
      ],
      "text/plain": [
       "   EmployeeID   Project\n",
       "0           2  ProjectA\n",
       "1           3  ProjectB\n",
       "2           4  ProjectC\n",
       "3           5  ProjectD"
      ]
     },
     "execution_count": 30,
     "metadata": {},
     "output_type": "execute_result"
    }
   ],
   "source": [
    "#  Project DataFrame\n",
    "project_data = {'EmployeeID': [2, 3, 4, 5],\n",
    "                'Project': ['ProjectA', 'ProjectB', 'ProjectC', 'ProjectD']}\n",
    "projects = pd.DataFrame(project_data)\n",
    "projects"
   ]
  },
  {
   "cell_type": "markdown",
   "id": "d5adf463",
   "metadata": {},
   "source": [
    "- **Merge**:</br>\n",
    "Merging is used to combine DataFrames based on a common column (or index). Merge combines DataFrames based on common columns."
   ]
  },
  {
   "cell_type": "code",
   "execution_count": 31,
   "id": "88ebc5d5",
   "metadata": {
    "ExecuteTime": {
     "end_time": "2023-12-14T22:06:51.284746Z",
     "start_time": "2023-12-14T22:06:51.191695Z"
    }
   },
   "outputs": [
    {
     "name": "stdout",
     "output_type": "stream",
     "text": [
      "Merged DataFrame:\n"
     ]
    },
    {
     "data": {
      "text/html": [
       "<div>\n",
       "<style scoped>\n",
       "    .dataframe tbody tr th:only-of-type {\n",
       "        vertical-align: middle;\n",
       "    }\n",
       "\n",
       "    .dataframe tbody tr th {\n",
       "        vertical-align: top;\n",
       "    }\n",
       "\n",
       "    .dataframe thead th {\n",
       "        text-align: right;\n",
       "    }\n",
       "</style>\n",
       "<table border=\"1\" class=\"dataframe\">\n",
       "  <thead>\n",
       "    <tr style=\"text-align: right;\">\n",
       "      <th></th>\n",
       "      <th>EmployeeID</th>\n",
       "      <th>Name</th>\n",
       "      <th>Project</th>\n",
       "    </tr>\n",
       "  </thead>\n",
       "  <tbody>\n",
       "    <tr>\n",
       "      <th>0</th>\n",
       "      <td>2</td>\n",
       "      <td>Doyin</td>\n",
       "      <td>ProjectA</td>\n",
       "    </tr>\n",
       "    <tr>\n",
       "      <th>1</th>\n",
       "      <td>3</td>\n",
       "      <td>Temitayo</td>\n",
       "      <td>ProjectB</td>\n",
       "    </tr>\n",
       "    <tr>\n",
       "      <th>2</th>\n",
       "      <td>4</td>\n",
       "      <td>Abdullahi</td>\n",
       "      <td>ProjectC</td>\n",
       "    </tr>\n",
       "  </tbody>\n",
       "</table>\n",
       "</div>"
      ],
      "text/plain": [
       "   EmployeeID       Name   Project\n",
       "0           2      Doyin  ProjectA\n",
       "1           3   Temitayo  ProjectB\n",
       "2           4  Abdullahi  ProjectC"
      ]
     },
     "execution_count": 31,
     "metadata": {},
     "output_type": "execute_result"
    }
   ],
   "source": [
    "# Merging based on 'EmployeeID'\n",
    "merged_df = pd.merge(employees, projects, on='EmployeeID', how='inner')\n",
    "print(\"Merged DataFrame:\")\n",
    "merged_df\n"
   ]
  },
  {
   "cell_type": "markdown",
   "id": "9b8afc20",
   "metadata": {},
   "source": [
    "- **Join**:</br>\n",
    "Joining is similar to merging, and it is based on the index. Join combines DataFrames based on their index."
   ]
  },
  {
   "cell_type": "code",
   "execution_count": 32,
   "id": "4653f1ee",
   "metadata": {
    "ExecuteTime": {
     "end_time": "2023-12-14T22:06:51.394477Z",
     "start_time": "2023-12-14T22:06:51.289750Z"
    }
   },
   "outputs": [
    {
     "name": "stdout",
     "output_type": "stream",
     "text": [
      "Joined DataFrame:\n"
     ]
    },
    {
     "data": {
      "text/html": [
       "<div>\n",
       "<style scoped>\n",
       "    .dataframe tbody tr th:only-of-type {\n",
       "        vertical-align: middle;\n",
       "    }\n",
       "\n",
       "    .dataframe tbody tr th {\n",
       "        vertical-align: top;\n",
       "    }\n",
       "\n",
       "    .dataframe thead th {\n",
       "        text-align: right;\n",
       "    }\n",
       "</style>\n",
       "<table border=\"1\" class=\"dataframe\">\n",
       "  <thead>\n",
       "    <tr style=\"text-align: right;\">\n",
       "      <th></th>\n",
       "      <th>Name</th>\n",
       "      <th>Project</th>\n",
       "    </tr>\n",
       "    <tr>\n",
       "      <th>EmployeeID</th>\n",
       "      <th></th>\n",
       "      <th></th>\n",
       "    </tr>\n",
       "  </thead>\n",
       "  <tbody>\n",
       "    <tr>\n",
       "      <th>2</th>\n",
       "      <td>Doyin</td>\n",
       "      <td>ProjectA</td>\n",
       "    </tr>\n",
       "    <tr>\n",
       "      <th>3</th>\n",
       "      <td>Temitayo</td>\n",
       "      <td>ProjectB</td>\n",
       "    </tr>\n",
       "    <tr>\n",
       "      <th>4</th>\n",
       "      <td>Abdullahi</td>\n",
       "      <td>ProjectC</td>\n",
       "    </tr>\n",
       "  </tbody>\n",
       "</table>\n",
       "</div>"
      ],
      "text/plain": [
       "                 Name   Project\n",
       "EmployeeID                     \n",
       "2               Doyin  ProjectA\n",
       "3            Temitayo  ProjectB\n",
       "4           Abdullahi  ProjectC"
      ]
     },
     "execution_count": 32,
     "metadata": {},
     "output_type": "execute_result"
    }
   ],
   "source": [
    "# Setting 'EmployeeID' as the index for both DataFrames\n",
    "employees.set_index('EmployeeID', inplace=True)\n",
    "projects.set_index('EmployeeID', inplace=True)\n",
    "\n",
    "# Joining based on the index\n",
    "joined_df = employees.join(projects, how='inner', lsuffix='_employee', rsuffix='_project')\n",
    "print(\"Joined DataFrame:\")\n",
    "joined_df\n"
   ]
  },
  {
   "cell_type": "markdown",
   "id": "06994399",
   "metadata": {},
   "source": [
    "- **Concatenate**:</br>\n",
    "Concatenation is used to combine DataFrames along a particular axis.It Combines DataFrames along a specified axis (either rows or columns)"
   ]
  },
  {
   "cell_type": "code",
   "execution_count": 33,
   "id": "f5b23f1a",
   "metadata": {
    "ExecuteTime": {
     "end_time": "2023-12-14T22:06:51.530422Z",
     "start_time": "2023-12-14T22:06:51.404479Z"
    }
   },
   "outputs": [
    {
     "name": "stdout",
     "output_type": "stream",
     "text": [
      "Concatenated DataFrame:\n"
     ]
    },
    {
     "data": {
      "text/html": [
       "<div>\n",
       "<style scoped>\n",
       "    .dataframe tbody tr th:only-of-type {\n",
       "        vertical-align: middle;\n",
       "    }\n",
       "\n",
       "    .dataframe tbody tr th {\n",
       "        vertical-align: top;\n",
       "    }\n",
       "\n",
       "    .dataframe thead th {\n",
       "        text-align: right;\n",
       "    }\n",
       "</style>\n",
       "<table border=\"1\" class=\"dataframe\">\n",
       "  <thead>\n",
       "    <tr style=\"text-align: right;\">\n",
       "      <th></th>\n",
       "      <th>Name</th>\n",
       "      <th>Project</th>\n",
       "    </tr>\n",
       "  </thead>\n",
       "  <tbody>\n",
       "    <tr>\n",
       "      <th>0</th>\n",
       "      <td>Idris</td>\n",
       "      <td>NaN</td>\n",
       "    </tr>\n",
       "    <tr>\n",
       "      <th>1</th>\n",
       "      <td>Doyin</td>\n",
       "      <td>NaN</td>\n",
       "    </tr>\n",
       "    <tr>\n",
       "      <th>2</th>\n",
       "      <td>Temitayo</td>\n",
       "      <td>NaN</td>\n",
       "    </tr>\n",
       "    <tr>\n",
       "      <th>3</th>\n",
       "      <td>Abdullahi</td>\n",
       "      <td>NaN</td>\n",
       "    </tr>\n",
       "    <tr>\n",
       "      <th>4</th>\n",
       "      <td>NaN</td>\n",
       "      <td>ProjectA</td>\n",
       "    </tr>\n",
       "    <tr>\n",
       "      <th>5</th>\n",
       "      <td>NaN</td>\n",
       "      <td>ProjectB</td>\n",
       "    </tr>\n",
       "    <tr>\n",
       "      <th>6</th>\n",
       "      <td>NaN</td>\n",
       "      <td>ProjectC</td>\n",
       "    </tr>\n",
       "    <tr>\n",
       "      <th>7</th>\n",
       "      <td>NaN</td>\n",
       "      <td>ProjectD</td>\n",
       "    </tr>\n",
       "  </tbody>\n",
       "</table>\n",
       "</div>"
      ],
      "text/plain": [
       "        Name   Project\n",
       "0      Idris       NaN\n",
       "1      Doyin       NaN\n",
       "2   Temitayo       NaN\n",
       "3  Abdullahi       NaN\n",
       "4        NaN  ProjectA\n",
       "5        NaN  ProjectB\n",
       "6        NaN  ProjectC\n",
       "7        NaN  ProjectD"
      ]
     },
     "execution_count": 33,
     "metadata": {},
     "output_type": "execute_result"
    }
   ],
   "source": [
    "# Concatenating along rows (axis=0)\n",
    "concatenated_df = pd.concat([employees, projects], ignore_index=True)\n",
    "print(\"Concatenated DataFrame:\")\n",
    "concatenated_df\n"
   ]
  },
  {
   "cell_type": "markdown",
   "id": "7e54ce6c",
   "metadata": {},
   "source": [
    "### Reshaping and Pivoting\n",
    "Reshaping and pivoting are common operations in pandas that allow you to transform the structure of your data."
   ]
  },
  {
   "cell_type": "markdown",
   "id": "a931549b",
   "metadata": {},
   "source": [
    "Consider a dataset representing the sales of products in different regions and months:"
   ]
  },
  {
   "cell_type": "code",
   "execution_count": 34,
   "id": "ccace2b0",
   "metadata": {
    "ExecuteTime": {
     "end_time": "2023-12-14T22:06:51.705926Z",
     "start_time": "2023-12-14T22:06:51.536427Z"
    }
   },
   "outputs": [
    {
     "name": "stdout",
     "output_type": "stream",
     "text": [
      "Original DataFrame:\n"
     ]
    },
    {
     "data": {
      "text/html": [
       "<div>\n",
       "<style scoped>\n",
       "    .dataframe tbody tr th:only-of-type {\n",
       "        vertical-align: middle;\n",
       "    }\n",
       "\n",
       "    .dataframe tbody tr th {\n",
       "        vertical-align: top;\n",
       "    }\n",
       "\n",
       "    .dataframe thead th {\n",
       "        text-align: right;\n",
       "    }\n",
       "</style>\n",
       "<table border=\"1\" class=\"dataframe\">\n",
       "  <thead>\n",
       "    <tr style=\"text-align: right;\">\n",
       "      <th></th>\n",
       "      <th>Month</th>\n",
       "      <th>Region</th>\n",
       "      <th>Product_A</th>\n",
       "      <th>Product_B</th>\n",
       "    </tr>\n",
       "  </thead>\n",
       "  <tbody>\n",
       "    <tr>\n",
       "      <th>0</th>\n",
       "      <td>Jan</td>\n",
       "      <td>North</td>\n",
       "      <td>100</td>\n",
       "      <td>200</td>\n",
       "    </tr>\n",
       "    <tr>\n",
       "      <th>1</th>\n",
       "      <td>Jan</td>\n",
       "      <td>South</td>\n",
       "      <td>120</td>\n",
       "      <td>180</td>\n",
       "    </tr>\n",
       "    <tr>\n",
       "      <th>2</th>\n",
       "      <td>Feb</td>\n",
       "      <td>North</td>\n",
       "      <td>150</td>\n",
       "      <td>210</td>\n",
       "    </tr>\n",
       "    <tr>\n",
       "      <th>3</th>\n",
       "      <td>Feb</td>\n",
       "      <td>South</td>\n",
       "      <td>130</td>\n",
       "      <td>190</td>\n",
       "    </tr>\n",
       "    <tr>\n",
       "      <th>4</th>\n",
       "      <td>Mar</td>\n",
       "      <td>North</td>\n",
       "      <td>110</td>\n",
       "      <td>220</td>\n",
       "    </tr>\n",
       "    <tr>\n",
       "      <th>5</th>\n",
       "      <td>Mar</td>\n",
       "      <td>South</td>\n",
       "      <td>140</td>\n",
       "      <td>200</td>\n",
       "    </tr>\n",
       "  </tbody>\n",
       "</table>\n",
       "</div>"
      ],
      "text/plain": [
       "  Month Region  Product_A  Product_B\n",
       "0   Jan  North        100        200\n",
       "1   Jan  South        120        180\n",
       "2   Feb  North        150        210\n",
       "3   Feb  South        130        190\n",
       "4   Mar  North        110        220\n",
       "5   Mar  South        140        200"
      ]
     },
     "execution_count": 34,
     "metadata": {},
     "output_type": "execute_result"
    }
   ],
   "source": [
    "data = {\n",
    "    'Month': ['Jan', 'Jan', 'Feb', 'Feb', 'Mar', 'Mar'],\n",
    "    'Region': ['North', 'South', 'North', 'South', 'North', 'South'],\n",
    "    'Product_A': [100, 120, 150, 130, 110, 140],\n",
    "    'Product_B': [200, 180, 210, 190, 220, 200],\n",
    "}\n",
    "\n",
    "df = pd.DataFrame(data)\n",
    "print(\"Original DataFrame:\")\n",
    "df\n"
   ]
  },
  {
   "cell_type": "markdown",
   "id": "180bdbd9",
   "metadata": {},
   "source": [
    "**Reshaping with `melt`**</br>\n",
    "The `melt` function is used to transform wide-format data into long-format. The melt function will transform the original DataFrame from a wide format to a long format, which makesit easier to analyze and work with."
   ]
  },
  {
   "cell_type": "code",
   "execution_count": 35,
   "id": "18dca344",
   "metadata": {
    "ExecuteTime": {
     "end_time": "2023-12-14T22:06:51.812510Z",
     "start_time": "2023-12-14T22:06:51.710929Z"
    }
   },
   "outputs": [
    {
     "name": "stdout",
     "output_type": "stream",
     "text": [
      "\n",
      "Melted DataFrame:\n"
     ]
    },
    {
     "data": {
      "text/html": [
       "<div>\n",
       "<style scoped>\n",
       "    .dataframe tbody tr th:only-of-type {\n",
       "        vertical-align: middle;\n",
       "    }\n",
       "\n",
       "    .dataframe tbody tr th {\n",
       "        vertical-align: top;\n",
       "    }\n",
       "\n",
       "    .dataframe thead th {\n",
       "        text-align: right;\n",
       "    }\n",
       "</style>\n",
       "<table border=\"1\" class=\"dataframe\">\n",
       "  <thead>\n",
       "    <tr style=\"text-align: right;\">\n",
       "      <th></th>\n",
       "      <th>Month</th>\n",
       "      <th>Region</th>\n",
       "      <th>Product</th>\n",
       "      <th>Sales</th>\n",
       "    </tr>\n",
       "  </thead>\n",
       "  <tbody>\n",
       "    <tr>\n",
       "      <th>0</th>\n",
       "      <td>Jan</td>\n",
       "      <td>North</td>\n",
       "      <td>Product_A</td>\n",
       "      <td>100</td>\n",
       "    </tr>\n",
       "    <tr>\n",
       "      <th>1</th>\n",
       "      <td>Jan</td>\n",
       "      <td>South</td>\n",
       "      <td>Product_A</td>\n",
       "      <td>120</td>\n",
       "    </tr>\n",
       "    <tr>\n",
       "      <th>2</th>\n",
       "      <td>Feb</td>\n",
       "      <td>North</td>\n",
       "      <td>Product_A</td>\n",
       "      <td>150</td>\n",
       "    </tr>\n",
       "    <tr>\n",
       "      <th>3</th>\n",
       "      <td>Feb</td>\n",
       "      <td>South</td>\n",
       "      <td>Product_A</td>\n",
       "      <td>130</td>\n",
       "    </tr>\n",
       "    <tr>\n",
       "      <th>4</th>\n",
       "      <td>Mar</td>\n",
       "      <td>North</td>\n",
       "      <td>Product_A</td>\n",
       "      <td>110</td>\n",
       "    </tr>\n",
       "    <tr>\n",
       "      <th>5</th>\n",
       "      <td>Mar</td>\n",
       "      <td>South</td>\n",
       "      <td>Product_A</td>\n",
       "      <td>140</td>\n",
       "    </tr>\n",
       "    <tr>\n",
       "      <th>6</th>\n",
       "      <td>Jan</td>\n",
       "      <td>North</td>\n",
       "      <td>Product_B</td>\n",
       "      <td>200</td>\n",
       "    </tr>\n",
       "    <tr>\n",
       "      <th>7</th>\n",
       "      <td>Jan</td>\n",
       "      <td>South</td>\n",
       "      <td>Product_B</td>\n",
       "      <td>180</td>\n",
       "    </tr>\n",
       "    <tr>\n",
       "      <th>8</th>\n",
       "      <td>Feb</td>\n",
       "      <td>North</td>\n",
       "      <td>Product_B</td>\n",
       "      <td>210</td>\n",
       "    </tr>\n",
       "    <tr>\n",
       "      <th>9</th>\n",
       "      <td>Feb</td>\n",
       "      <td>South</td>\n",
       "      <td>Product_B</td>\n",
       "      <td>190</td>\n",
       "    </tr>\n",
       "    <tr>\n",
       "      <th>10</th>\n",
       "      <td>Mar</td>\n",
       "      <td>North</td>\n",
       "      <td>Product_B</td>\n",
       "      <td>220</td>\n",
       "    </tr>\n",
       "    <tr>\n",
       "      <th>11</th>\n",
       "      <td>Mar</td>\n",
       "      <td>South</td>\n",
       "      <td>Product_B</td>\n",
       "      <td>200</td>\n",
       "    </tr>\n",
       "  </tbody>\n",
       "</table>\n",
       "</div>"
      ],
      "text/plain": [
       "   Month Region    Product  Sales\n",
       "0    Jan  North  Product_A    100\n",
       "1    Jan  South  Product_A    120\n",
       "2    Feb  North  Product_A    150\n",
       "3    Feb  South  Product_A    130\n",
       "4    Mar  North  Product_A    110\n",
       "5    Mar  South  Product_A    140\n",
       "6    Jan  North  Product_B    200\n",
       "7    Jan  South  Product_B    180\n",
       "8    Feb  North  Product_B    210\n",
       "9    Feb  South  Product_B    190\n",
       "10   Mar  North  Product_B    220\n",
       "11   Mar  South  Product_B    200"
      ]
     },
     "execution_count": 35,
     "metadata": {},
     "output_type": "execute_result"
    }
   ],
   "source": [
    "melted_df = pd.melt(df, id_vars=['Month', 'Region'], var_name='Product', value_name='Sales')\n",
    "print(\"\\nMelted DataFrame:\")\n",
    "melted_df"
   ]
  },
  {
   "cell_type": "markdown",
   "id": "b5a50abe",
   "metadata": {},
   "source": [
    "**Pivoting with `pivot_table`:**</br>\n",
    "This is used for the reverse operation, converting long-format data back to wide-format."
   ]
  },
  {
   "cell_type": "markdown",
   "id": "4274cd60",
   "metadata": {},
   "source": [
    "Now, let's pivot the data back into a wide format using the pivot_table function."
   ]
  },
  {
   "cell_type": "code",
   "execution_count": null,
   "id": "ad75b366",
   "metadata": {
    "ExecuteTime": {
     "start_time": "2023-12-14T22:06:41.503Z"
    }
   },
   "outputs": [
    {
     "name": "stdout",
     "output_type": "stream",
     "text": [
      "\n",
      "Pivoted DataFrame:\n"
     ]
    }
   ],
   "source": [
    "pivoted_df = melted_df.pivot_table(index=['Month', 'Region'], columns='Product', values='Sales').reset_index()\n",
    "print(\"\\nPivoted DataFrame:\")\n",
    "pivoted_df\n"
   ]
  },
  {
   "cell_type": "code",
   "execution_count": null,
   "id": "d64b6aaa",
   "metadata": {},
   "outputs": [],
   "source": []
  },
  {
   "cell_type": "markdown",
   "id": "db20d968",
   "metadata": {},
   "source": [
    "## Data Cleaning and Handling:\n",
    "   - Missing Data Handling: Methods like dropna(), fillna() to handle missing values.\n",
    "   - Duplicates Handling: drop_duplicates() to remove duplicate rows.\n",
    "   - Data Conversion: Methods like astype() for changing data types."
   ]
  },
  {
   "cell_type": "code",
   "execution_count": null,
   "id": "98acec11",
   "metadata": {
    "ExecuteTime": {
     "start_time": "2023-12-14T22:06:41.512Z"
    }
   },
   "outputs": [],
   "source": [
    "#recall our dataframe called 'frame' above\n",
    "frame1 = frame.copy()"
   ]
  },
  {
   "cell_type": "markdown",
   "id": "09e21090",
   "metadata": {},
   "source": [
    "### Missing Data Handling"
   ]
  },
  {
   "cell_type": "code",
   "execution_count": null,
   "id": "baf7a874",
   "metadata": {
    "ExecuteTime": {
     "start_time": "2023-12-14T22:06:41.520Z"
    }
   },
   "outputs": [],
   "source": [
    "# Handling missing values\n",
    "frame1.loc[2, 'Salary'] = None\n",
    "print(\"\\nDataFrame with Missing Value:\")\n",
    "frame1"
   ]
  },
  {
   "cell_type": "code",
   "execution_count": null,
   "id": "4aa411b0",
   "metadata": {
    "ExecuteTime": {
     "start_time": "2023-12-14T22:06:41.528Z"
    }
   },
   "outputs": [],
   "source": [
    "# Checking for missing values\n",
    "print(\"\\nMissing Values:\")\n",
    "frame1.isnull()"
   ]
  },
  {
   "cell_type": "code",
   "execution_count": null,
   "id": "748d5c20",
   "metadata": {
    "ExecuteTime": {
     "start_time": "2023-12-14T22:06:41.535Z"
    }
   },
   "outputs": [],
   "source": [
    "# Dropping rows with missing values\n",
    "frame_cleaned = frame1.dropna()\n",
    "print(\"\\nDataFrame after Dropping Missing Values:\")\n",
    "frame_cleaned"
   ]
  },
  {
   "cell_type": "code",
   "execution_count": null,
   "id": "3c960285",
   "metadata": {
    "ExecuteTime": {
     "start_time": "2023-12-14T22:06:41.542Z"
    }
   },
   "outputs": [],
   "source": [
    "# Filling missing values with a specific value\n",
    "frame_filled = frame1.fillna(value={'Salary': frame['Salary'].mean()})\n",
    "print(\"\\nDataFrame after Filling Missing Values:\")\n",
    "frame_filled"
   ]
  },
  {
   "cell_type": "markdown",
   "id": "33d5f8c3",
   "metadata": {},
   "source": [
    "### Duplicates Handling"
   ]
  },
  {
   "cell_type": "code",
   "execution_count": null,
   "id": "18938478",
   "metadata": {
    "ExecuteTime": {
     "start_time": "2023-12-14T22:06:41.547Z"
    }
   },
   "outputs": [],
   "source": [
    "# Checking for duplicates\n",
    "print(\"\\nDuplicate Rows:\")\n",
    "frame1.duplicated()"
   ]
  },
  {
   "cell_type": "code",
   "execution_count": null,
   "id": "9f3b77eb",
   "metadata": {
    "ExecuteTime": {
     "start_time": "2023-12-14T22:06:41.554Z"
    }
   },
   "outputs": [],
   "source": [
    "# Dropping duplicate rows\n",
    "frame_no_duplicates = frame1.drop_duplicates()\n",
    "print(\"\\nDataFrame after Dropping Duplicates:\")\n",
    "frame_no_duplicates\n"
   ]
  },
  {
   "cell_type": "markdown",
   "id": "7e1ce7df",
   "metadata": {},
   "source": [
    "### Data Conversion"
   ]
  },
  {
   "cell_type": "code",
   "execution_count": null,
   "id": "b90bb34f",
   "metadata": {
    "ExecuteTime": {
     "start_time": "2023-12-14T22:06:41.563Z"
    }
   },
   "outputs": [],
   "source": [
    "# Converting 'Age' column to integers\n",
    "frame['Age'] = frame1['Age'].astype(int)\n",
    "print(\"\\nDataFrame after Data Conversion:\")\n",
    "frame"
   ]
  },
  {
   "cell_type": "markdown",
   "id": "bda4c521",
   "metadata": {
    "ExecuteTime": {
     "end_time": "2023-12-12T20:29:19.277321Z",
     "start_time": "2023-12-12T20:29:19.265509Z"
    }
   },
   "source": [
    "## Statistical and Mathematical Functions:\n",
    "   - Descriptive Statistics: Methods like mean(), sum(), min(), max(), describe() to calculate statistics.\n",
    "   - Correlation and Covariance: Functions like corr(), cov() to compute correlation and covariance.\n"
   ]
  },
  {
   "cell_type": "code",
   "execution_count": null,
   "id": "3ad5dd4d",
   "metadata": {
    "ExecuteTime": {
     "start_time": "2023-12-14T22:06:41.571Z"
    }
   },
   "outputs": [],
   "source": [
    "#recall our dataframe called 'frame' above\n",
    "frame"
   ]
  },
  {
   "cell_type": "markdown",
   "id": "da2c6c1e",
   "metadata": {
    "ExecuteTime": {
     "end_time": "2023-12-12T22:22:54.822363Z",
     "start_time": "2023-12-12T22:22:54.818058Z"
    }
   },
   "source": [
    "### Descriptive Statistics"
   ]
  },
  {
   "cell_type": "code",
   "execution_count": null,
   "id": "74520db2",
   "metadata": {
    "ExecuteTime": {
     "start_time": "2023-12-14T22:06:41.578Z"
    }
   },
   "outputs": [],
   "source": [
    "# Calculating mean and median\n",
    "mean_age = frame['Age'].mean()\n",
    "median_salary = frame['Salary'].median()\n",
    "min_salary = frame['Salary'].min()\n",
    "max_salary = frame['Salary'].max()\n",
    "description = frame.describe()"
   ]
  },
  {
   "cell_type": "code",
   "execution_count": null,
   "id": "23333f79",
   "metadata": {
    "ExecuteTime": {
     "start_time": "2023-12-14T22:06:41.586Z"
    }
   },
   "outputs": [],
   "source": [
    "print(\"\\nDescriptive Statistics:\\n\")\n",
    "\n",
    "print(\"Mean Age:\", mean_age)\n",
    "print(\"Median Salary:\", median_salary)\n",
    "print(\"Minimum Salary:\", min_salary)\n",
    "print(\"Maximum Salary:\", max_salary)\n",
    "print(\"\\nDescribe dataframe:\") \n",
    "description"
   ]
  },
  {
   "cell_type": "code",
   "execution_count": null,
   "id": "17adc574",
   "metadata": {},
   "outputs": [],
   "source": []
  },
  {
   "cell_type": "code",
   "execution_count": null,
   "id": "b054ad7b",
   "metadata": {},
   "outputs": [],
   "source": []
  },
  {
   "cell_type": "markdown",
   "id": "03407af3",
   "metadata": {},
   "source": [
    "### Correlation and Covariance:\n",
    "The `corr()` and `cov()` functions are not suitable for string data. In this case, we can exclude non-numeric columns before calculating the correlation and covariance."
   ]
  },
  {
   "cell_type": "code",
   "execution_count": null,
   "id": "13f84b3c",
   "metadata": {
    "ExecuteTime": {
     "start_time": "2023-12-14T22:06:41.600Z"
    },
    "scrolled": true
   },
   "outputs": [],
   "source": [
    "#recall our dataframe called 'frame' above\n",
    "frame"
   ]
  },
  {
   "cell_type": "code",
   "execution_count": null,
   "id": "0841c7f6",
   "metadata": {
    "ExecuteTime": {
     "start_time": "2023-12-14T22:06:41.606Z"
    }
   },
   "outputs": [],
   "source": [
    "frame['Age']"
   ]
  },
  {
   "cell_type": "code",
   "execution_count": null,
   "id": "c675e31a",
   "metadata": {
    "ExecuteTime": {
     "start_time": "2023-12-14T22:06:41.614Z"
    }
   },
   "outputs": [],
   "source": [
    "# Excluding non-numeric columns\n",
    "numeric_df = frame.select_dtypes(include=['int64', 'float64','int32'])"
   ]
  },
  {
   "cell_type": "code",
   "execution_count": null,
   "id": "b928eded",
   "metadata": {
    "ExecuteTime": {
     "start_time": "2023-12-14T22:06:41.621Z"
    }
   },
   "outputs": [],
   "source": [
    "# Calculating correlation matrix\n",
    "correlation_matrix = numeric_df.corr()\n",
    "print(\"\\nCorrelation Matrix:\")\n",
    "correlation_matrix"
   ]
  },
  {
   "cell_type": "code",
   "execution_count": null,
   "id": "aca53657",
   "metadata": {
    "ExecuteTime": {
     "start_time": "2023-12-14T22:06:41.629Z"
    }
   },
   "outputs": [],
   "source": [
    "# Calculating covariance matrix\n",
    "covariance_matrix = numeric_df.cov()\n",
    "print(\"\\nCovariance Matrix:\")\n",
    "covariance_matrix"
   ]
  },
  {
   "cell_type": "code",
   "execution_count": null,
   "id": "a5b70ca6",
   "metadata": {},
   "outputs": [],
   "source": []
  },
  {
   "cell_type": "markdown",
   "id": "c70775aa",
   "metadata": {},
   "source": [
    "## Time Series and Date Functionality:\n",
    "   - Date-Time Indexing: Methods to work with time series data using date-time indexing.\n",
    "   - Time Resampling and Shifting: Functions like resample(), shift() for time-based operations."
   ]
  },
  {
   "cell_type": "markdown",
   "id": "0fa0d230",
   "metadata": {},
   "source": [
    "### Date-Time Indexing"
   ]
  },
  {
   "cell_type": "code",
   "execution_count": null,
   "id": "d148f32e",
   "metadata": {
    "ExecuteTime": {
     "start_time": "2023-12-14T22:06:41.644Z"
    }
   },
   "outputs": [],
   "source": [
    "# Creating a sample DataFrame with time series data\n",
    "date_rng = pd.date_range(start='2023-01-01', end='2023-01-05', freq='D')\n",
    "data = {\n",
    "    'Date': date_rng,\n",
    "    'Temperature': [32, 35, 28, 24, 30],\n",
    "    'Humidity': [40, 45, 38, 42, 36]\n",
    "}\n",
    "\n",
    "df_time_series = pd.DataFrame(data)\n",
    "print(\"Original DataFrame:\")\n",
    "df_time_series"
   ]
  },
  {
   "cell_type": "markdown",
   "id": "9765ea33",
   "metadata": {},
   "source": [
    "### Time Indexing"
   ]
  },
  {
   "cell_type": "code",
   "execution_count": null,
   "id": "b2edf22a",
   "metadata": {
    "ExecuteTime": {
     "start_time": "2023-12-14T22:06:41.650Z"
    }
   },
   "outputs": [],
   "source": [
    "# Setting the 'Date' column as the index\n",
    "df_time_series.set_index('Date', inplace=True)\n",
    "print(\"\\nDataFrame with Time Index:\")\n",
    "df_time_series"
   ]
  },
  {
   "cell_type": "markdown",
   "id": "62ec7705",
   "metadata": {
    "ExecuteTime": {
     "end_time": "2023-12-12T23:47:30.916505Z",
     "start_time": "2023-12-12T23:47:30.911004Z"
    }
   },
   "source": [
    "### Resampling Time Series Data"
   ]
  },
  {
   "cell_type": "code",
   "execution_count": null,
   "id": "28ae9332",
   "metadata": {
    "ExecuteTime": {
     "start_time": "2023-12-14T22:06:41.657Z"
    }
   },
   "outputs": [],
   "source": [
    "# Resampling to weekly frequency\n",
    "df_weekly = df_time_series.resample('W').mean()\n",
    "print(\"\\nResampled DataFrame (Weekly Mean):\")\n",
    "df_weekly"
   ]
  },
  {
   "cell_type": "markdown",
   "id": "70b38383",
   "metadata": {},
   "source": [
    "### Shifting Time Series Data"
   ]
  },
  {
   "cell_type": "code",
   "execution_count": null,
   "id": "4fd65c5f",
   "metadata": {
    "ExecuteTime": {
     "start_time": "2023-12-14T22:06:41.666Z"
    }
   },
   "outputs": [],
   "source": [
    "# Shifting the 'Temperature' column by one day\n",
    "df_time_series['Temperature_Shifted'] = df_time_series['Temperature'].shift(1)\n",
    "print(\"\\nDataFrame with Shifted Temperature:\")\n",
    "df_time_series\n"
   ]
  },
  {
   "cell_type": "markdown",
   "id": "225452b5",
   "metadata": {},
   "source": [
    "## Plotting and Visualization:\n",
    "   - Integration with Matplotlib: Seamless integration with Matplotlib for customized plotting.\n",
    "   - Plotting Methods: Methods like plot(), hist(), boxplot() for data visualization."
   ]
  },
  {
   "cell_type": "markdown",
   "id": "874730d8",
   "metadata": {},
   "source": [
    "### Integration with Matplotlib\n",
    "Pandas integrates with Matplotlib for plotting and visualization. Here we introduce a new package `matplotlib` for plotting and visualization"
   ]
  },
  {
   "cell_type": "code",
   "execution_count": null,
   "id": "f59aa377",
   "metadata": {
    "ExecuteTime": {
     "start_time": "2023-12-14T22:06:41.672Z"
    }
   },
   "outputs": [],
   "source": [
    "# importing the package\n",
    "import matplotlib.pyplot as plt # Here we import 'pyplot' a module of the matplotlib library \n",
    "%matplotlib inline"
   ]
  },
  {
   "cell_type": "code",
   "execution_count": null,
   "id": "074c2610",
   "metadata": {
    "ExecuteTime": {
     "start_time": "2023-12-14T22:06:41.678Z"
    }
   },
   "outputs": [],
   "source": [
    "# Plotting using our time series data\n",
    "df_time_series['Temperature'].plot(title='Temperature Over Time', xlabel='Date', ylabel='Temperature (°C)')\n"
   ]
  },
  {
   "cell_type": "markdown",
   "id": "ed871a93",
   "metadata": {},
   "source": [
    "### Plotting Methods"
   ]
  },
  {
   "cell_type": "code",
   "execution_count": null,
   "id": "0309f59b",
   "metadata": {
    "ExecuteTime": {
     "start_time": "2023-12-14T22:06:41.688Z"
    }
   },
   "outputs": [],
   "source": [
    "#recall our dataframe called 'frame' above\n",
    "frame"
   ]
  },
  {
   "cell_type": "markdown",
   "id": "cac90ff0",
   "metadata": {},
   "source": [
    "### Line Plot"
   ]
  },
  {
   "cell_type": "code",
   "execution_count": null,
   "id": "da48ed50",
   "metadata": {
    "ExecuteTime": {
     "start_time": "2023-12-14T22:06:41.695Z"
    }
   },
   "outputs": [],
   "source": [
    "# Plotting a line chart for 'Age' and 'Salary'\n",
    "frame.plot(x='Name', y=['Age', 'Salary'], kind='line', title='Age and Salary Comparison', marker='o')\n",
    "print(\"A line chart comparing the 'Age' and 'Salary' for each person.\")"
   ]
  },
  {
   "cell_type": "markdown",
   "id": "5af27a2a",
   "metadata": {},
   "source": [
    "### Bar Plot"
   ]
  },
  {
   "cell_type": "code",
   "execution_count": null,
   "id": "65c98b92",
   "metadata": {
    "ExecuteTime": {
     "start_time": "2023-12-14T22:06:41.703Z"
    }
   },
   "outputs": [],
   "source": [
    "# Plotting a bar chart for 'Salary' by department\n",
    "frame.groupby('Department')['Salary'].sum().plot(kind='bar', title='Total Salary by Department', rot=0)\n",
    "plt.xlabel('Department')\n",
    "plt.ylabel('Total Salary')\n",
    "\n",
    "print(\"A bar chart showing the total salary for each department.\")"
   ]
  },
  {
   "cell_type": "markdown",
   "id": "916312de",
   "metadata": {},
   "source": [
    "### Histogram"
   ]
  },
  {
   "cell_type": "code",
   "execution_count": null,
   "id": "f31b0463",
   "metadata": {
    "ExecuteTime": {
     "start_time": "2023-12-14T22:06:41.710Z"
    }
   },
   "outputs": [],
   "source": [
    "# Plotting a histogram for 'Age'\n",
    "frame['Age'].plot(kind='hist', bins=np.arange(20, 35, 2), title='Age Distribution')\n",
    "plt.xlabel('Age')\n",
    "plt.ylabel('Frequency')\n",
    "\n",
    "print(\"A histogram showing the distribution of ages\")"
   ]
  },
  {
   "cell_type": "markdown",
   "id": "da3f0a3a",
   "metadata": {},
   "source": [
    "### Box Plot"
   ]
  },
  {
   "cell_type": "code",
   "execution_count": null,
   "id": "88d05218",
   "metadata": {
    "ExecuteTime": {
     "start_time": "2023-12-14T22:06:41.719Z"
    }
   },
   "outputs": [],
   "source": [
    "# Plotting a box plot for 'Salary'\n",
    "frame['Salary'].plot(kind='box', title='Salary Distribution')\n",
    "\n",
    "print(\"A box plot illustrating the distribution of salaries.\")"
   ]
  }
 ],
 "metadata": {
  "kernelspec": {
   "display_name": "Python 3 (ipykernel)",
   "language": "python",
   "name": "python3"
  },
  "language_info": {
   "codemirror_mode": {
    "name": "ipython",
    "version": 3
   },
   "file_extension": ".py",
   "mimetype": "text/x-python",
   "name": "python",
   "nbconvert_exporter": "python",
   "pygments_lexer": "ipython3",
   "version": "3.11.5"
  },
  "toc": {
   "base_numbering": 1,
   "nav_menu": {},
   "number_sections": true,
   "sideBar": true,
   "skip_h1_title": false,
   "title_cell": "Table of Contents",
   "title_sidebar": "Contents",
   "toc_cell": false,
   "toc_position": {},
   "toc_section_display": true,
   "toc_window_display": false
  },
  "varInspector": {
   "cols": {
    "lenName": 16,
    "lenType": 16,
    "lenVar": 40
   },
   "kernels_config": {
    "python": {
     "delete_cmd_postfix": "",
     "delete_cmd_prefix": "del ",
     "library": "var_list.py",
     "varRefreshCmd": "print(var_dic_list())"
    },
    "r": {
     "delete_cmd_postfix": ") ",
     "delete_cmd_prefix": "rm(",
     "library": "var_list.r",
     "varRefreshCmd": "cat(var_dic_list()) "
    }
   },
   "types_to_exclude": [
    "module",
    "function",
    "builtin_function_or_method",
    "instance",
    "_Feature"
   ],
   "window_display": false
  }
 },
 "nbformat": 4,
 "nbformat_minor": 5
}
